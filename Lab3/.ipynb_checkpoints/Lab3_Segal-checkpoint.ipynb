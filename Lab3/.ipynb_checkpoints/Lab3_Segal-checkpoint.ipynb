{
 "cells": [
  {
   "cell_type": "markdown",
   "metadata": {},
   "source": [
    "# Lab 3 - Matan Segal\n",
    "\n",
    "## Life is Too Short to Drink Cheap Wine\n",
    "\n",
    "#### Business understanding\n",
    "\n",
    "The dataset token from: https://www.kaggle.com/uciml/red-wine-quality-cortez-et-al-2009 \n",
    "\n",
    "Originally, it was posted on the UCI machine learning repository: https://archive.ics.uci.edu/ml/datasets/wine+quality\n",
    "\n",
    "Citation: P. Cortez, A. Cerdeira, F. Almeida, T. Matos and J. Reis. Modeling wine preferences by data mining from physicochemical properties. In Decision Support Systems, Elsevier, 47(4):547-553, 2009.\n",
    "\n",
    "The dataset related to red variants of the Portuguese \"Vinho Verde\" wine. It contains 1599 different wines, which each have the following 11 features: fixed acidity, volatile acidity, citric acid, residual sugar, chlorides, free sulfur dioxide, total sulfur dioxide, density, pH, sulphates, and alcohol percentage. The target of the set is the quality of the wine, which is on scale of 0 to 10 (0 is very poor and 10 is an excellent wine). The measurement of the target was measured by sensors, which require several tests in a special lab and most importantly can be made just after making the wine.\n",
    " \n",
    "The model I am claiming to build should use the features given to predict the quality of a wine before making it. the classification task is the scale of quality from 0 to 10. Based on the model, the wine producer should provide the required features for making the wine, and the model will return the predicted quality of the wine that will be made. Using the model, the producer will not need to wait until the end of the process of making the wine in order to measure the quality of the wine, but they will have a prediction even before starting the process. \n",
    "\n",
    "The parties which will be interested in such a model will be the red wine producers as well as the wine stores that will be able to have a tool to measure the quality of the wine without the lab testing process. \n",
    "\n",
    "For the model to be useful, it should have accuracy of at least 90%. In this case, the producers should use the model before the process of making the wine in order to set the features for best results, and at the end still make a quality checking for more accurate results.  \n"
   ]
  },
  {
   "cell_type": "markdown",
   "metadata": {},
   "source": [
    "### Prapering the Data\n",
    "\n",
    "##### Data representation:"
   ]
  },
  {
   "cell_type": "code",
   "execution_count": 1,
   "metadata": {},
   "outputs": [
    {
     "data": {
      "text/html": [
       "<div>\n",
       "<style scoped>\n",
       "    .dataframe tbody tr th:only-of-type {\n",
       "        vertical-align: middle;\n",
       "    }\n",
       "\n",
       "    .dataframe tbody tr th {\n",
       "        vertical-align: top;\n",
       "    }\n",
       "\n",
       "    .dataframe thead th {\n",
       "        text-align: right;\n",
       "    }\n",
       "</style>\n",
       "<table border=\"1\" class=\"dataframe\">\n",
       "  <thead>\n",
       "    <tr style=\"text-align: right;\">\n",
       "      <th></th>\n",
       "      <th>fixed acidity</th>\n",
       "      <th>volatile acidity</th>\n",
       "      <th>citric acid</th>\n",
       "      <th>residual sugar</th>\n",
       "      <th>chlorides</th>\n",
       "      <th>free sulfur dioxide</th>\n",
       "      <th>total sulfur dioxide</th>\n",
       "      <th>density</th>\n",
       "      <th>pH</th>\n",
       "      <th>sulphates</th>\n",
       "      <th>alcohol</th>\n",
       "      <th>quality</th>\n",
       "    </tr>\n",
       "  </thead>\n",
       "  <tbody>\n",
       "    <tr>\n",
       "      <th>0</th>\n",
       "      <td>7.4</td>\n",
       "      <td>0.70</td>\n",
       "      <td>0.00</td>\n",
       "      <td>1.9</td>\n",
       "      <td>0.076</td>\n",
       "      <td>11.0</td>\n",
       "      <td>34.0</td>\n",
       "      <td>0.9978</td>\n",
       "      <td>3.51</td>\n",
       "      <td>0.56</td>\n",
       "      <td>9.4</td>\n",
       "      <td>5</td>\n",
       "    </tr>\n",
       "    <tr>\n",
       "      <th>1</th>\n",
       "      <td>7.8</td>\n",
       "      <td>0.88</td>\n",
       "      <td>0.00</td>\n",
       "      <td>2.6</td>\n",
       "      <td>0.098</td>\n",
       "      <td>25.0</td>\n",
       "      <td>67.0</td>\n",
       "      <td>0.9968</td>\n",
       "      <td>3.20</td>\n",
       "      <td>0.68</td>\n",
       "      <td>9.8</td>\n",
       "      <td>5</td>\n",
       "    </tr>\n",
       "    <tr>\n",
       "      <th>2</th>\n",
       "      <td>7.8</td>\n",
       "      <td>0.76</td>\n",
       "      <td>0.04</td>\n",
       "      <td>2.3</td>\n",
       "      <td>0.092</td>\n",
       "      <td>15.0</td>\n",
       "      <td>54.0</td>\n",
       "      <td>0.9970</td>\n",
       "      <td>3.26</td>\n",
       "      <td>0.65</td>\n",
       "      <td>9.8</td>\n",
       "      <td>5</td>\n",
       "    </tr>\n",
       "    <tr>\n",
       "      <th>3</th>\n",
       "      <td>11.2</td>\n",
       "      <td>0.28</td>\n",
       "      <td>0.56</td>\n",
       "      <td>1.9</td>\n",
       "      <td>0.075</td>\n",
       "      <td>17.0</td>\n",
       "      <td>60.0</td>\n",
       "      <td>0.9980</td>\n",
       "      <td>3.16</td>\n",
       "      <td>0.58</td>\n",
       "      <td>9.8</td>\n",
       "      <td>6</td>\n",
       "    </tr>\n",
       "    <tr>\n",
       "      <th>4</th>\n",
       "      <td>7.4</td>\n",
       "      <td>0.70</td>\n",
       "      <td>0.00</td>\n",
       "      <td>1.9</td>\n",
       "      <td>0.076</td>\n",
       "      <td>11.0</td>\n",
       "      <td>34.0</td>\n",
       "      <td>0.9978</td>\n",
       "      <td>3.51</td>\n",
       "      <td>0.56</td>\n",
       "      <td>9.4</td>\n",
       "      <td>5</td>\n",
       "    </tr>\n",
       "  </tbody>\n",
       "</table>\n",
       "</div>"
      ],
      "text/plain": [
       "   fixed acidity  volatile acidity  citric acid  residual sugar  chlorides  \\\n",
       "0            7.4              0.70         0.00             1.9      0.076   \n",
       "1            7.8              0.88         0.00             2.6      0.098   \n",
       "2            7.8              0.76         0.04             2.3      0.092   \n",
       "3           11.2              0.28         0.56             1.9      0.075   \n",
       "4            7.4              0.70         0.00             1.9      0.076   \n",
       "\n",
       "   free sulfur dioxide  total sulfur dioxide  density    pH  sulphates  \\\n",
       "0                 11.0                  34.0   0.9978  3.51       0.56   \n",
       "1                 25.0                  67.0   0.9968  3.20       0.68   \n",
       "2                 15.0                  54.0   0.9970  3.26       0.65   \n",
       "3                 17.0                  60.0   0.9980  3.16       0.58   \n",
       "4                 11.0                  34.0   0.9978  3.51       0.56   \n",
       "\n",
       "   alcohol  quality  \n",
       "0      9.4        5  \n",
       "1      9.8        5  \n",
       "2      9.8        5  \n",
       "3      9.8        6  \n",
       "4      9.4        5  "
      ]
     },
     "execution_count": 1,
     "metadata": {},
     "output_type": "execute_result"
    }
   ],
   "source": [
    "import pandas as pd\n",
    "import numpy as np\n",
    "\n",
    "df = pd.read_csv('winequality-red.csv', encoding='unicode_escape', low_memory=True) \n",
    "\n",
    "df.head()"
   ]
  },
  {
   "cell_type": "code",
   "execution_count": 2,
   "metadata": {},
   "outputs": [
    {
     "name": "stdout",
     "output_type": "stream",
     "text": [
      "<class 'pandas.core.frame.DataFrame'>\n",
      "RangeIndex: 1599 entries, 0 to 1598\n",
      "Data columns (total 12 columns):\n",
      "fixed acidity           1599 non-null float64\n",
      "volatile acidity        1599 non-null float64\n",
      "citric acid             1599 non-null float64\n",
      "residual sugar          1599 non-null float64\n",
      "chlorides               1599 non-null float64\n",
      "free sulfur dioxide     1599 non-null float64\n",
      "total sulfur dioxide    1599 non-null float64\n",
      "density                 1599 non-null float64\n",
      "pH                      1599 non-null float64\n",
      "sulphates               1599 non-null float64\n",
      "alcohol                 1599 non-null float64\n",
      "quality                 1599 non-null int64\n",
      "dtypes: float64(11), int64(1)\n",
      "memory usage: 150.0 KB\n"
     ]
    }
   ],
   "source": [
    "df.info()"
   ]
  },
  {
   "cell_type": "markdown",
   "metadata": {},
   "source": [
    "We can see that we have no missing data and that all of our values are numeric values that we can use for our training data as well as for tesing the data. I will use all the first 11 features for the data and the 'quality' column for the target. However, I will take the target and change it to one-hot encoding..  "
   ]
  },
  {
   "cell_type": "code",
   "execution_count": 3,
   "metadata": {},
   "outputs": [
    {
     "name": "stdout",
     "output_type": "stream",
     "text": [
      "X shape: (1599, 11)\n",
      "Unique values in Y: [3 4 5 6 7 8]\n"
     ]
    }
   ],
   "source": [
    "X = (df.T[:11]).T\n",
    "print('X shape:',X.shape)\n",
    "Y_ = df['quality']\n",
    "print('Unique values in Y:',np.unique(Y_))\n"
   ]
  },
  {
   "cell_type": "markdown",
   "metadata": {},
   "source": [
    "In the quality column, we can see that there are actually values from 3 to 8, so our classification will be amoung 6 classes.\n",
    "\n",
    "Now, I will check how many time each unique value appears:"
   ]
  },
  {
   "cell_type": "code",
   "execution_count": 4,
   "metadata": {},
   "outputs": [
    {
     "name": "stdout",
     "output_type": "stream",
     "text": [
      "3 : 10\n",
      "4 : 53\n",
      "5 : 681\n",
      "6 : 638\n",
      "7 : 199\n",
      "8 : 18\n"
     ]
    }
   ],
   "source": [
    "qualityList = [3, 4, 5, 6, 7, 8]\n",
    "for i in range(6):\n",
    "    print(qualityList[i],':',(df[df['quality'] == qualityList[i]]).shape[0])"
   ]
  },
  {
   "cell_type": "markdown",
   "metadata": {},
   "source": [
    "Since qulity level 3 and 8 barely showed up, I will take them off and update X and Y"
   ]
  },
  {
   "cell_type": "code",
   "execution_count": 5,
   "metadata": {},
   "outputs": [
    {
     "name": "stdout",
     "output_type": "stream",
     "text": [
      "df new shape: (1571, 12)\n",
      "X shape: (1571, 11)\n",
      "Unique values in Y: [4 5 6 7]\n"
     ]
    }
   ],
   "source": [
    "df = df[~df['quality'].isin([3,8])]\n",
    "print('df new shape:',df.shape)\n",
    "X = (df.T[:11]).T\n",
    "print('X shape:',X.shape)\n",
    "Y = df['quality']\n",
    "print('Unique values in Y:',np.unique(Y))\n"
   ]
  },
  {
   "cell_type": "code",
   "execution_count": 6,
   "metadata": {},
   "outputs": [
    {
     "name": "stdout",
     "output_type": "stream",
     "text": [
      "X_train shape: (1256, 11)\n",
      "X_test shape: (315, 11)\n",
      "Y_train shape: (1256,)\n",
      "Y_test shape: (315,)\n"
     ]
    }
   ],
   "source": [
    "from sklearn.model_selection import train_test_split\n",
    "X_train, X_test, Y_train, Y_test = train_test_split(X, Y, test_size=0.20, random_state=42)\n",
    "print('X_train shape:',X_train.shape)\n",
    "print('X_test shape:',X_test.shape)\n",
    "print('Y_train shape:',Y_train.shape)\n",
    "print('Y_test shape:',Y_test.shape)\n"
   ]
  },
  {
   "cell_type": "code",
   "execution_count": 7,
   "metadata": {},
   "outputs": [
    {
     "name": "stdout",
     "output_type": "stream",
     "text": [
      "Y_test:\n",
      "4 : 11\n",
      "5 : 127\n",
      "6 : 129\n",
      "7 : 48\n",
      "\n",
      "Y_train\n",
      "4 : 42\n",
      "5 : 554\n",
      "6 : 509\n",
      "7 : 151\n"
     ]
    }
   ],
   "source": [
    "# one hot encoding\n",
    "Y_train_1enc = pd.get_dummies(Y_train).values\n",
    "Y_test_1enc = pd.get_dummies(Y_test).values\n",
    "\n",
    "# counts values in Y train and test to see how many unique values\n",
    "qualityList = [4, 5, 6, 7]\n",
    "print('Y_test:')\n",
    "for col in range(4):\n",
    "    print(qualityList[col],':',sum(Y_test_1enc[:,col]))\n",
    "    \n",
    "print('\\nY_train')\n",
    "for col in range(4):\n",
    "    print(qualityList[col],':',sum(Y_train_1enc[:,col]))\n",
    "    "
   ]
  },
  {
   "cell_type": "markdown",
   "metadata": {},
   "source": [
    "In both, Y_train and Y_test we have approximation of normal distribution of the quality level. The test and the train sizes are acceptable for building a model and test it. In addition, the features used for prediction in the data are independent on one another and independent from raw to raw, therefore we can say that dividing our data into 20/80 precatage ratio is appropriate for my data set."
   ]
  },
  {
   "cell_type": "markdown",
   "metadata": {},
   "source": [
    "## Modeling\n",
    "\n",
    "Steepest Descent, Stochastic Gradient Descent, Newton's method:"
   ]
  },
  {
   "cell_type": "code",
   "execution_count": 189,
   "metadata": {},
   "outputs": [
    {
     "name": "stdout",
     "output_type": "stream",
     "text": [
      "Accuracy of:  0.5015873015873016\n"
     ]
    }
   ],
   "source": [
    "from scipy.special import expit\n",
    "from sklearn.metrics import accuracy_score\n",
    "import random\n",
    "\n",
    "class BinaryLR: \n",
    "    # private:\n",
    "    def __init__(self, eta, iterations = 20, C = 0.001, Reg = 'no',optTec = 'steepDes'):\n",
    "        # optTech = optimization techinque [steepDes,SDG,newtons]\n",
    "        self.eta = eta\n",
    "        self.iters = iterations\n",
    "        self.C = C\n",
    "        self.reg = Reg\n",
    "        self.ot = optTec\n",
    "    \n",
    "    @staticmethod\n",
    "    def _add_bias(X):\n",
    "        return np.hstack((np.ones((X.shape[0],1)),X)) # add bias term\n",
    "    @staticmethod\n",
    "    def _sigmoid(theta):\n",
    "        # increase stability, redefine sigmoid operation\n",
    "        return expit(theta) #1/(1+np.exp(-theta))\n",
    "    \n",
    "    def _get_gradient(self,X,y):\n",
    "        # choose between the three\n",
    "        \n",
    "        if (self.ot == 'steepDes'):\n",
    "            ydiff = y-self.predict_proba(X,add_bias=False).ravel() # get y difference\n",
    "            gradient = np.mean(X * ydiff[:,np.newaxis], axis=0) # make ydiff a column vector and multiply through\n",
    "            return gradient.reshape(self.w_.shape)\n",
    "        \n",
    "        elif (self.ot == 'SDG'):\n",
    "            idx = int(np.random.rand()*len(y)) # grab random instance\n",
    "            ydiff = y[idx]-self.predict_proba(X[idx],add_bias=False) # get y difference (now scalar)\n",
    "            gradient = X[idx] * ydiff[:,np.newaxis] # make ydiff a column vector and multiply through\n",
    "        \n",
    "            gradient = gradient.reshape(self.w_.shape)\n",
    "            gradient[1:] += -2 * self.w_[1:] * self.C\n",
    "        \n",
    "            return gradient\n",
    "        \n",
    "        elif (self.ot == 'newtons'): \n",
    "            g = self.predict_proba(X,add_bias=False).ravel() # get sigmoid value for all classes\n",
    "            hessian = X.T @ np.diag(g*(1-g)) @ X - 2 * self.C # calculate the hessian\n",
    "            ydiff = y-g # get y difference\n",
    "            gradient = np.sum(X * ydiff[:,np.newaxis], axis=0) # make ydiff a column vector and multiply through\n",
    "            gradient = gradient.reshape(self.w_.shape)\n",
    "            gradient[1:] += -2 * self.w_[1:] * self.C\n",
    "        \n",
    "            return pinv(hessian) @ gradient\n",
    "    \n",
    "    # public:\n",
    "    def predict_proba(self, X, add_bias=True):\n",
    "        # add bias term if requested\n",
    "        Xb = self._add_bias(X) if add_bias else X\n",
    "        return self._sigmoid(Xb @ self.w_) # return the probability y=1\n",
    "\n",
    "    def fitBinary(self, X, y):\n",
    "        Xb = self._add_bias(X) # add bias term\n",
    "        num_samples, num_features = Xb.shape  \n",
    "        self.w_ = np.zeros((num_features,1)) # init weight vector to zeros  \n",
    "        # for as many as the max iterations\n",
    "        for _ in range(self.iters):\n",
    "            gradient = self._get_gradient(Xb,y)\n",
    "            self.w_ += gradient*self.eta # multiply by learning rate\n",
    "            # adding the regularization terms:\n",
    "            if(self.reg == 'L1' or self.reg == 'L1L2'):\n",
    "                self.w_[1:] -=self.eta*2*self.C*self.w_[1:] # update not include bias\n",
    "            if(self.reg == 'L2' or self.reg == 'L1L2'):\n",
    "                self.w_[1:] -=self.eta*self.C*abs(self.w_[1:])\n",
    "\n",
    "class LR(BinaryLR):\n",
    "    \n",
    "    def __init__(self, eta, iterations = 20, C = 0.001, Reg = 'no', optTec = 'steepDes'):\n",
    "        self.eta = eta\n",
    "        self.iters = iterations\n",
    "        self.C = C\n",
    "        self.reg = Reg\n",
    "        self.ot = optTec\n",
    "    \n",
    "    def fit(self,X,y):\n",
    "        num_samples, num_features = X.shape\n",
    "        self.unique_ = np.unique(y) # get each unique class value\n",
    "        num_unique_classes = len(self.unique_)\n",
    "        self.classifiers_ = [] # will fill this array with binary classifiers\n",
    "        \n",
    "        for i,yval in enumerate(self.unique_): # for each unique value\n",
    "            y_binary = (y==yval) # create a binary problem\n",
    "            # train the binary classifier for this class\n",
    "            blr = BinaryLR(self.eta,self.iters,self.C,self.reg,self.ot)\n",
    "            blr.fitBinary(X,y_binary)\n",
    "            # add the trained classifier to the list\n",
    "            self.classifiers_.append(blr)\n",
    "            \n",
    "        # save all the weights into one matrix, separate column for each class\n",
    "        self.w_ = np.hstack([x.w_ for x in self.classifiers_]).T\n",
    "        \n",
    "    def predict_proba(self,X):\n",
    "        probs = []\n",
    "        for blr in self.classifiers_:\n",
    "            probs.append(blr.predict_proba(X)) # get probability for each classifier\n",
    "        return np.hstack(probs) # make into single matrix\n",
    "    \n",
    "    def predict(self,X):\n",
    "        return self.unique_[np.argmax(self.predict_proba(X),axis=1)] # take argmax along row\n",
    "    \n",
    "#-----------------------------------------------------------------------------------------------\n",
    "# testing the class:\n",
    "# optTech = optimization techinque [steepDes,SDG,newtons]\n",
    "\n",
    "lr = LR(0.001, 100, C=0.01, Reg = 'L1',optTec = 'steepDes')\n",
    "lr.fit(X_train,Y_train)\n",
    "yhat = lr.predict(X_test)\n",
    "print('Accuracy of: ',accuracy_score(Y_test,yhat))"
   ]
  },
  {
   "cell_type": "markdown",
   "metadata": {},
   "source": [
    "One layer Neural Network (I added it because I thought it can be used as steepest desending, but it performed worse)"
   ]
  },
  {
   "cell_type": "code",
   "execution_count": 9,
   "metadata": {},
   "outputs": [
    {
     "name": "stdout",
     "output_type": "stream",
     "text": [
      "Accuracy of:  0.40634920634920635\n"
     ]
    }
   ],
   "source": [
    "\n",
    "class NerualNet1:\n",
    "    def __init__(self, eta, iterations = 20, C = 0.001, Reg = 'no'):\n",
    "        self.eta = eta\n",
    "        self.iters = iterations\n",
    "        self.C = C\n",
    "        self.reg = Reg\n",
    "        \n",
    "    @staticmethod\n",
    "    def _add_bias(X):\n",
    "        return np.vstack((np.ones((1,X.shape[1])),X)) # add bias term as a row\n",
    "    \n",
    "    @staticmethod\n",
    "    def _sigmoid(theta):\n",
    "        return expit(theta) #1/(1+np.exp(-theta))\n",
    "    \n",
    "    # using one layer neural network\n",
    "    def _get_gradient(self,X,y):\n",
    "        yhat = self.predict_proba(X,add_bias=False) #yhat is the predicted value (= A2)\n",
    "        V = (-2*(y - yhat)) * yhat * (1-yhat)  \n",
    "        return V @ X.T\n",
    "    \n",
    "    # public:\n",
    "    def predict_proba(self,X,add_bias=True):\n",
    "        # add bias term if requested\n",
    "        Xb = self._add_bias(X) if add_bias else X\n",
    "        return self._sigmoid(self.w_ @ Xb) # return the probability y=1\n",
    "    \n",
    "    def predict(self,X):\n",
    "        A = X.T\n",
    "        return self.unique_[np.argmax(self.predict_proba(A)>0.5,axis=0)]\n",
    "    \n",
    "    \n",
    "    def fit(self, X, y):\n",
    "        self.unique_ = np.unique(y)\n",
    "        y = pd.get_dummies(y).values\n",
    "        y = y.T\n",
    "        A = X.T # make these as sets of columns samples\n",
    "        A = self._add_bias(A) # add bias term       \n",
    "        num_features = A.shape[0]\n",
    "        num_elems = y.shape[0]\n",
    "        \n",
    "        self.w_ = np.zeros((num_elems,num_features)) # init weight vector to zeros\n",
    "        \n",
    "        for _ in range(self.iters):\n",
    "            gradient = self._get_gradient(A,y)\n",
    "            self.w_ -= gradient*self.eta # multiply by learning rate \n",
    "            if(self.reg == 'L1' or self.reg == 'L1L2'):\n",
    "                self.w_[1:] -=self.eta*2*self.C*self.w_[1:] # update not include bias\n",
    "            if(self.reg == 'L2' or self.reg == 'L1L2'):\n",
    "                self.w_[1:] -=self.eta*self.C*abs(self.w_[1:])\n",
    "            \n",
    "#--------------------------------------------------------------------------\n",
    "\n",
    "lr = NerualNet1(eta=0.05,iterations=200,C=0.01,Reg = 'L2')\n",
    "lr.fit(X_train,Y_train)\n",
    "\n",
    "yhat = lr.predict(X_test)\n",
    "\n",
    "print('Accuracy of: ',accuracy_score(Y_test,yhat))"
   ]
  },
  {
   "cell_type": "markdown",
   "metadata": {},
   "source": [
    "Now I will write a function that will ask the user the kind of optimization technique as well as regularization type and the values of eta, iterations and C."
   ]
  },
  {
   "cell_type": "code",
   "execution_count": 26,
   "metadata": {},
   "outputs": [],
   "source": [
    "\n",
    "def LogisticRegression(X_train,Y_train,X_test,Y_test,eta, iterations = 20, C = 0.01, Reg = 'no', optTech = 'steepDes'):\n",
    "    # Reg = regularization [no,L1,L2,L1L2]\n",
    "    # optTech = optimization techinque [steepDes,SDG,newtons,1NN] , where 1NN is one layer neural network\n",
    "    lr = 0\n",
    "    if(optTech == 'steepDes' or optTech == 'SDG' or optTech == 'newtons'):\n",
    "        lr = LR(eta, iterations, C,Reg, optTech)\n",
    "    elif(optTech == '1NN'):\n",
    "        lr = NerualNet1(eta, iterations, C,Reg)\n",
    "    else:\n",
    "        print('Wrong input')\n",
    "        return\n",
    "    \n",
    "    lr.fit(X_train,Y_train)\n",
    "    yhat = lr.predict(X_test)\n",
    "    return accuracy_score(Y_test,yhat)\n",
    "        "
   ]
  },
  {
   "cell_type": "markdown",
   "metadata": {},
   "source": [
    "Showing several results from running all the optimizations techmiques:"
   ]
  },
  {
   "cell_type": "code",
   "execution_count": 61,
   "metadata": {},
   "outputs": [
    {
     "name": "stdout",
     "output_type": "stream",
     "text": [
      "steepDes     50.16 %.\n",
      "SDG          44.13 %.\n",
      "newtons      54.92 %.\n",
      "NN1          40.32 %.\n"
     ]
    }
   ],
   "source": [
    "tecList = ['steepDes','SDG']\n",
    "\n",
    "for tec in tecList:\n",
    "    acc = LogisticRegression(X_train,Y_train,X_test,Y_test,\n",
    "                                          0.001, 100, C = 0.01, \n",
    "                                          Reg = 'L1', optTech = tec)\n",
    "    print('{:10s} {:7.2f} %.'.format(tec, acc * 100))\n",
    "    \n",
    "acc = LogisticRegression(X_train,Y_train,X_test,Y_test,\n",
    "                                          0.001, 5, C = 0.01, \n",
    "                                          Reg = 'L1L2', optTech = 'newtons')\n",
    "print('{:10s} {:7.2f} %.'.format('newtons', acc * 100)) \n",
    "\n",
    "acc = LogisticRegression(X_train,Y_train,X_test,Y_test,\n",
    "                                          0.1, 100, C = 0.01, \n",
    "                                          Reg = 'L2', optTech = '1NN')\n",
    "print('{:10s} {:7.2f} %.'.format('NN1', acc * 100))\n",
    "\n"
   ]
  },
  {
   "cell_type": "markdown",
   "metadata": {},
   "source": [
    "We can see that the best performance on the data is by the Newton's method.In order to check best performance overall, I will check for each one its performance with different values for eta and iters. For Newton's methos I will use small number of iteration. "
   ]
  },
  {
   "cell_type": "code",
   "execution_count": 64,
   "metadata": {},
   "outputs": [
    {
     "name": "stdout",
     "output_type": "stream",
     "text": [
      "\n",
      "----------------- steepDes ------------------\n",
      "eta = 0.0001, iter =    5 , acc = 40.32 %.\n",
      "eta = 0.0001, iter =   20 , acc = 40.32 %.\n",
      "eta = 0.0001, iter =  100 , acc = 41.90 %.\n",
      "eta = 0.0001, iter =  250 , acc = 46.98 %.\n",
      "eta = 0.0010, iter =    5 , acc = 40.63 %.\n",
      "eta = 0.0010, iter =   20 , acc = 43.49 %.\n",
      "eta = 0.0010, iter =  100 , acc = 50.16 %.\n",
      "eta = 0.0010, iter =  250 , acc = 49.52 %.\n",
      "eta = 0.0100, iter =    5 , acc = 40.63 %.\n",
      "eta = 0.0100, iter =   20 , acc = 40.95 %.\n",
      "eta = 0.0100, iter =  100 , acc = 23.49 %.\n",
      "eta = 0.0100, iter =  250 , acc = 39.37 %.\n",
      "eta = 0.1000, iter =    5 , acc = 46.03 %.\n",
      "eta = 0.1000, iter =   20 , acc = 13.97 %.\n",
      "eta = 0.1000, iter =  100 , acc = 15.56 %.\n",
      "eta = 0.1000, iter =  250 , acc = 9.21 %.\n",
      "eta = 1.0000, iter =    5 , acc = 41.90 %.\n",
      "eta = 1.0000, iter =   20 , acc = 21.27 %.\n",
      "eta = 1.0000, iter =  100 , acc = 29.84 %.\n",
      "eta = 1.0000, iter =  250 , acc = 18.73 %.\n",
      "\n",
      "----------------- SDG ------------------\n",
      "eta = 0.0001, iter =    5 , acc = 40.32 %.\n",
      "eta = 0.0001, iter =   20 , acc = 40.32 %.\n",
      "eta = 0.0001, iter =  100 , acc = 40.32 %.\n",
      "eta = 0.0001, iter =  250 , acc = 40.32 %.\n",
      "eta = 0.0010, iter =    5 , acc = 40.32 %.\n",
      "eta = 0.0010, iter =   20 , acc = 40.32 %.\n",
      "eta = 0.0010, iter =  100 , acc = 48.89 %.\n",
      "eta = 0.0010, iter =  250 , acc = 40.32 %.\n",
      "eta = 0.0100, iter =    5 , acc = 40.32 %.\n",
      "eta = 0.0100, iter =   20 , acc = 40.00 %.\n",
      "eta = 0.0100, iter =  100 , acc = 18.73 %.\n",
      "eta = 0.0100, iter =  250 , acc = 43.17 %.\n",
      "eta = 0.1000, iter =    5 , acc = 40.32 %.\n",
      "eta = 0.1000, iter =   20 , acc = 15.24 %.\n",
      "eta = 0.1000, iter =  100 , acc = 29.21 %.\n",
      "eta = 0.1000, iter =  250 , acc = 39.37 %.\n",
      "eta = 1.0000, iter =    5 , acc = 34.29 %.\n",
      "eta = 1.0000, iter =   20 , acc = 42.54 %.\n",
      "eta = 1.0000, iter =  100 , acc = 40.32 %.\n",
      "eta = 1.0000, iter =  250 , acc = 40.32 %.\n",
      "\n",
      "----------------- 1NN ------------------\n",
      "eta = 0.0001, iter =    5 , acc = 3.49 %.\n",
      "eta = 0.0001, iter =   20 , acc = 40.32 %.\n",
      "eta = 0.0001, iter =  100 , acc = 40.32 %.\n",
      "eta = 0.0001, iter =  250 , acc = 12.38 %.\n",
      "eta = 0.0010, iter =    5 , acc = 31.43 %.\n",
      "eta = 0.0010, iter =   20 , acc = 10.79 %.\n",
      "eta = 0.0010, iter =  100 , acc = 17.78 %.\n",
      "eta = 0.0010, iter =  250 , acc = 21.27 %.\n",
      "eta = 0.0100, iter =    5 , acc = 40.00 %.\n",
      "eta = 0.0100, iter =   20 , acc = 39.68 %.\n",
      "eta = 0.0100, iter =  100 , acc = 39.68 %.\n",
      "eta = 0.0100, iter =  250 , acc = 39.68 %.\n",
      "eta = 0.1000, iter =    5 , acc = 40.32 %.\n",
      "eta = 0.1000, iter =   20 , acc = 40.32 %.\n",
      "eta = 0.1000, iter =  100 , acc = 40.32 %.\n",
      "eta = 0.1000, iter =  250 , acc = 40.32 %.\n",
      "eta = 1.0000, iter =    5 , acc = 40.00 %.\n",
      "eta = 1.0000, iter =   20 , acc = 37.78 %.\n",
      "eta = 1.0000, iter =  100 , acc = 3.49 %.\n",
      "eta = 1.0000, iter =  250 , acc = 3.49 %.\n",
      "\n",
      "----------------- newtons ------------------\n",
      "eta = 0.0001, iter =    2 , acc = 54.92 %.\n",
      "eta = 0.0001, iter =    4 , acc = 54.92 %.\n",
      "eta = 0.0001, iter =    6 , acc = 54.92 %.\n",
      "eta = 0.0001, iter =    8 , acc = 54.92 %.\n",
      "eta = 0.0010, iter =    2 , acc = 54.92 %.\n",
      "eta = 0.0010, iter =    4 , acc = 54.92 %.\n",
      "eta = 0.0010, iter =    6 , acc = 54.92 %.\n",
      "eta = 0.0010, iter =    8 , acc = 54.92 %.\n",
      "eta = 0.0100, iter =    2 , acc = 54.60 %.\n",
      "eta = 0.0100, iter =    4 , acc = 54.60 %.\n",
      "eta = 0.0100, iter =    6 , acc = 54.29 %.\n",
      "eta = 0.0100, iter =    8 , acc = 54.29 %.\n",
      "eta = 0.1000, iter =    2 , acc = 56.83 %.\n",
      "eta = 0.1000, iter =    4 , acc = 36.51 %.\n",
      "eta = 0.1000, iter =    6 , acc = 10.16 %.\n",
      "eta = 0.1000, iter =    8 , acc = 5.08 %.\n",
      "eta = 1.0000, iter =    2 , acc = 40.32 %.\n",
      "eta = 1.0000, iter =    4 , acc = 40.32 %.\n",
      "eta = 1.0000, iter =    6 , acc = 40.32 %.\n",
      "eta = 1.0000, iter =    8 , acc = 40.32 %.\n"
     ]
    }
   ],
   "source": [
    "tecList = ['steepDes','SDG','1NN','newtons']\n",
    "\n",
    "etaVals = [0.0001,0.001,0.01,0.1,1]\n",
    "iterVals = [5,20,100,250]\n",
    "newtoniter = [2,4,6,8]\n",
    "\n",
    "steepDesList = []\n",
    "SDGlist = []\n",
    "newtonList = []\n",
    "NN1List = []\n",
    "\n",
    "listList = [steepDesList,SDGlist,NN1List,newtonList]\n",
    "\n",
    "for o in range(3):\n",
    "    print('\\n-----------------',tecList[o],'------------------')\n",
    "    for i in range(5):\n",
    "        for j in range(4):\n",
    "            acc = LogisticRegression(X_train,Y_train,X_test,Y_test,etaVals[i], \n",
    "                                     iterVals[j], C = 0.01, Reg = 'L1L2',  optTech = tecList[o])* 100\n",
    "            print('eta = {:5.4f}, iter = {:4d} , acc = {:3.2f} %.'.format(etaVals[i],iterVals[j], acc))\n",
    "            listList[o].append(acc)\n",
    "            \n",
    "# newton\n",
    "print('\\n-----------------',tecList[3],'------------------')\n",
    "for i in range(5):\n",
    "    for j in range(4):\n",
    "        acc = LogisticRegression(X_train,Y_train,X_test,Y_test,etaVals[i], \n",
    "                                     newtoniter[j], C = 0.01, Reg = 'L1L2', optTech = tecList[3])* 100\n",
    "        print('eta = {:5.4f}, iter = {:4d} , acc = {:3.2f} %.'.format(etaVals[i],newtoniter[j], acc))\n",
    "        listList[3].append(acc)\n",
    "       "
   ]
  },
  {
   "cell_type": "markdown",
   "metadata": {},
   "source": [
    "Ploting the results:"
   ]
  },
  {
   "cell_type": "code",
   "execution_count": 65,
   "metadata": {},
   "outputs": [
    {
     "data": {
      "image/png": "[encoded data removed]",
      "text/plain": [
       "<Figure size 1080x360 with 4 Axes>"
      ]
     },
     "metadata": {
      "needs_background": "light"
     },
     "output_type": "display_data"
    }
   ],
   "source": [
    "import matplotlib.pyplot as plt\n",
    "\n",
    "y = list(range(0,20))\n",
    "\n",
    "fig, (ax1, ax2, ax3, ax4) = plt.subplots(1, 4, figsize=(15,5))\n",
    "\n",
    "ax1.plot(y,listList[0],'r-')\n",
    "ax2.plot(y,listList[1], 'b-')\n",
    "ax3.plot(y,listList[2], 'g-')\n",
    "ax4.plot(y,listList[3], 'y-')\n",
    "\n",
    "ax1.title.set_text(tecList[0])\n",
    "ax2.title.set_text(tecList[1])\n",
    "ax3.title.set_text(tecList[2])\n",
    "ax4.title.set_text(tecList[3])\n",
    "\n",
    "ax1.set_ylabel('%')\n",
    "plt.show()"
   ]
  },
  {
   "cell_type": "markdown",
   "metadata": {},
   "source": [
    "After playing around with the best performance of the combination of the value of C and the kind of regularization I recieved that the Newton's method is defefnetly the best, with it best performance when eta = 0.1, number of iterations = 2 , we recieved accuracy of 56.83 %.\n",
    "However, the accuracy is still low.\n",
    "\n",
    "Let's check how SKlearn algorithm for the logistic regression will perform on the data:"
   ]
  },
  {
   "cell_type": "code",
   "execution_count": 72,
   "metadata": {},
   "outputs": [
    {
     "name": "stdout",
     "output_type": "stream",
     "text": [
      "Accuracy of:  0.5428571428571428\n",
      "Wall time: 24 ms\n"
     ]
    }
   ],
   "source": [
    "%%time\n",
    "from sklearn.linear_model import LogisticRegression as SKLogisticRegression\n",
    "\n",
    "lr_sk = SKLogisticRegression(solver='liblinear')\n",
    "\n",
    "lr_sk.fit(X_train,Y_train)\n",
    "yhat = lr_sk.predict(X_test)\n",
    "print('Accuracy of: ',accuracy_score(Y_test,yhat))"
   ]
  },
  {
   "cell_type": "markdown",
   "metadata": {},
   "source": [
    "Sklearn performe a little worse than the Newton's method, but still better than all the other optimizattion techniques. Now, let's run again the best performance from above and see its performance time:\n",
    "\n",
    "\n"
   ]
  },
  {
   "cell_type": "code",
   "execution_count": 87,
   "metadata": {},
   "outputs": [
    {
     "name": "stdout",
     "output_type": "stream",
     "text": [
      "Accuracy of:  0.5682539682539682\n",
      "Wall time: 88 ms\n"
     ]
    }
   ],
   "source": [
    "%%time\n",
    "lr = LR(0.1, 2, C=0.01, Reg = 'L1L2',optTec = 'newtons')\n",
    "lr.fit(X_train,Y_train)\n",
    "yhat = lr.predict(X_test)\n",
    "print('Accuracy of: ',accuracy_score(Y_test,yhat))"
   ]
  },
  {
   "cell_type": "markdown",
   "metadata": {},
   "source": [
    "The 2.6% between our Newton's method and the sklearn implementation cost us increasing in running time. Actually, our implementation is 4 time slower than sklearn. For this size of data set I would say it does not that effective, but for larger set it will definitely make a big different.\n",
    "\n",
    "If we summarize the comparison section, we can conclude that overall the sklearn implementation is better than our best implementation – the Newton’s method. However, if we will need to use this model in order to make the product we claim at the beginning, both models are way off from the main goal of the product. We were talking at the beginning about accuracy percentage above 90%, and our best implementation is not even 60%. If we would be able to find better data set, with more variety of quality level as well as bigger sample, we may could build a better model. In different case, we may need to find different features in order to predict better the wine quality level. In these cases, I would recommend using the sklearn implementation as soon it stands with our standard of more than 90% accuracy, because it is faster than our implementation. However, in our situation right now, I would not recommend using any kind of model from the ones we checked above.\n"
   ]
  },
  {
   "cell_type": "markdown",
   "metadata": {},
   "source": [
    "## Exceptional Work\n",
    "\n",
    "**Buiulding Mean Square Error based model**\n",
    "\n",
    "For Implementing an optimization technique for logistic regression using mean square error as my objective function, we will use the function J = (y-yhat)^2, where yhat is W.T@X, so we will have the fucntion J(W) = (y - W.T@X)^2. in order to find the best W values, we will search for the minimum point of the function, so we will take the derivitive of that and compare it to 0.\n",
    "After doing the calculation, we will get that W = ((X.T@X)^-1)X.T@y\n",
    "Once we will have W, we can predict y, which will be yhat. The last step is taking yhat through the sigmoid funtion and predict for 1 or 0.\n",
    "   "
   ]
  },
  {
   "cell_type": "code",
   "execution_count": 187,
   "metadata": {},
   "outputs": [],
   "source": [
    "\n",
    "class BinaryMSE: \n",
    "    @staticmethod\n",
    "    def _add_bias(X):\n",
    "        return np.hstack((np.ones((X.shape[0],1)),X)) # add bias term\n",
    "    \n",
    "    @staticmethod\n",
    "    def _sigmoid(theta):\n",
    "        return expit(theta) \n",
    "    \n",
    "    def _get_w(self,X,y):\n",
    "        return ((X.T@X)**-1)@X.T@y\n",
    "    \n",
    "    def predict_proba(self, X, add_bias=True):\n",
    "        # add bias term if requested\n",
    "        Xb = self._add_bias(X) if add_bias else X\n",
    "        return self._sigmoid(Xb @ self.w_) # return the probability y=1\n",
    "\n",
    "    def fitBinary(self, X, y):\n",
    "        Xb = self._add_bias(X) # add bias term\n",
    "        self.w_ = self._get_w(Xb,y) \n",
    "\n",
    "class MSE:\n",
    "    \n",
    "    def fit(self,X,y):\n",
    "        num_samples, num_features = X.shape\n",
    "        self.unique_ = np.unique(y) # get each unique class value\n",
    "        num_unique_classes = len(self.unique_)\n",
    "        self.classifiers_ = [] # will fill this array with binary classifiers\n",
    "        \n",
    "        for i,yval in enumerate(self.unique_): # for each unique value\n",
    "            y_binary = (y==yval) # create a binary problem\n",
    "            # train the binary classifier for this class\n",
    "            blr = BinaryMSE()\n",
    "            blr.fitBinary(X,y_binary)\n",
    "            # add the trained classifier to the list\n",
    "            self.classifiers_.append(blr)\n",
    "            \n",
    "        # save all the weights into one matrix, separate column for each class\n",
    "        self.w_ = np.hstack([x.w_ for x in self.classifiers_]).T\n",
    "        \n",
    "    def predict_proba(self,X):\n",
    "        probs = []\n",
    "        for blr in self.classifiers_:\n",
    "            pred = blr.predict_proba(X)\n",
    "            pred = pred.reshape((pred.shape[0],1)) #fixing the size since get (N,) instead of (N,1)\n",
    "            probs.append(pred)\n",
    "        return np.hstack(probs) # make into single matrix\n",
    "    \n",
    "    def predict(self,X):\n",
    "        return self.unique_[np.argmax(self.predict_proba(X),axis=1)] # take argmax along row"
   ]
  },
  {
   "cell_type": "code",
   "execution_count": 190,
   "metadata": {},
   "outputs": [
    {
     "name": "stdout",
     "output_type": "stream",
     "text": [
      "Accuracy of:  0.4031746031746032\n",
      "Wall time: 9 ms\n"
     ]
    }
   ],
   "source": [
    "%%time\n",
    "mse = MSE()\n",
    "mse.fit(X_train,Y_train)\n",
    "yhat = mse.predict(X_test)\n",
    "print('Accuracy of: ',accuracy_score(Y_test,yhat))"
   ]
  },
  {
   "cell_type": "markdown",
   "metadata": {},
   "source": [
    "We see that this way is actually the worst amoung all of our implamentations as well as sklearn, however it is the fastest. Considering the performance of all the other techniques on this spesific data, I will consider this way as acceptable way."
   ]
  },
  {
   "cell_type": "code",
   "execution_count": null,
   "metadata": {},
   "outputs": [],
   "source": []
  }
 ],
 "metadata": {
  "kernelspec": {
   "display_name": "Python 3",
   "language": "python",
   "name": "python3"
  },
  "language_info": {
   "codemirror_mode": {
    "name": "ipython",
    "version": 3
   },
   "file_extension": ".py",
   "mimetype": "text/x-python",
   "name": "python",
   "nbconvert_exporter": "python",
   "pygments_lexer": "ipython3",
   "version": "3.7.1"
  }
 },
 "nbformat": 4,
 "nbformat_minor": 4
}
