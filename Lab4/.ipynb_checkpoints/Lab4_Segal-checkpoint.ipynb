{
 "cells": [
  {
   "cell_type": "markdown",
   "metadata": {},
   "source": [
    "# Lab 4 - Matan Segal\n",
    "\n",
    "### Load, Split, and Balance"
   ]
  },
  {
   "cell_type": "code",
   "execution_count": 1,
   "metadata": {},
   "outputs": [
    {
     "data": {
      "text/html": [
       "<div>\n",
       "<style scoped>\n",
       "    .dataframe tbody tr th:only-of-type {\n",
       "        vertical-align: middle;\n",
       "    }\n",
       "\n",
       "    .dataframe tbody tr th {\n",
       "        vertical-align: top;\n",
       "    }\n",
       "\n",
       "    .dataframe thead th {\n",
       "        text-align: right;\n",
       "    }\n",
       "</style>\n",
       "<table border=\"1\" class=\"dataframe\">\n",
       "  <thead>\n",
       "    <tr style=\"text-align: right;\">\n",
       "      <th></th>\n",
       "      <th>TractId</th>\n",
       "      <th>State</th>\n",
       "      <th>County</th>\n",
       "      <th>TotalPop</th>\n",
       "      <th>Men</th>\n",
       "      <th>Women</th>\n",
       "      <th>Hispanic</th>\n",
       "      <th>White</th>\n",
       "      <th>Black</th>\n",
       "      <th>Native</th>\n",
       "      <th>...</th>\n",
       "      <th>Walk</th>\n",
       "      <th>OtherTransp</th>\n",
       "      <th>WorkAtHome</th>\n",
       "      <th>MeanCommute</th>\n",
       "      <th>Employed</th>\n",
       "      <th>PrivateWork</th>\n",
       "      <th>PublicWork</th>\n",
       "      <th>SelfEmployed</th>\n",
       "      <th>FamilyWork</th>\n",
       "      <th>Unemployment</th>\n",
       "    </tr>\n",
       "  </thead>\n",
       "  <tbody>\n",
       "    <tr>\n",
       "      <th>0</th>\n",
       "      <td>1001020100</td>\n",
       "      <td>Alabama</td>\n",
       "      <td>Autauga County</td>\n",
       "      <td>1845</td>\n",
       "      <td>899</td>\n",
       "      <td>946</td>\n",
       "      <td>2.4</td>\n",
       "      <td>86.3</td>\n",
       "      <td>5.2</td>\n",
       "      <td>0.0</td>\n",
       "      <td>...</td>\n",
       "      <td>0.5</td>\n",
       "      <td>0.0</td>\n",
       "      <td>2.1</td>\n",
       "      <td>24.5</td>\n",
       "      <td>881</td>\n",
       "      <td>74.2</td>\n",
       "      <td>21.2</td>\n",
       "      <td>4.5</td>\n",
       "      <td>0.0</td>\n",
       "      <td>4.6</td>\n",
       "    </tr>\n",
       "    <tr>\n",
       "      <th>1</th>\n",
       "      <td>1001020200</td>\n",
       "      <td>Alabama</td>\n",
       "      <td>Autauga County</td>\n",
       "      <td>2172</td>\n",
       "      <td>1167</td>\n",
       "      <td>1005</td>\n",
       "      <td>1.1</td>\n",
       "      <td>41.6</td>\n",
       "      <td>54.5</td>\n",
       "      <td>0.0</td>\n",
       "      <td>...</td>\n",
       "      <td>0.0</td>\n",
       "      <td>0.5</td>\n",
       "      <td>0.0</td>\n",
       "      <td>22.2</td>\n",
       "      <td>852</td>\n",
       "      <td>75.9</td>\n",
       "      <td>15.0</td>\n",
       "      <td>9.0</td>\n",
       "      <td>0.0</td>\n",
       "      <td>3.4</td>\n",
       "    </tr>\n",
       "    <tr>\n",
       "      <th>2</th>\n",
       "      <td>1001020300</td>\n",
       "      <td>Alabama</td>\n",
       "      <td>Autauga County</td>\n",
       "      <td>3385</td>\n",
       "      <td>1533</td>\n",
       "      <td>1852</td>\n",
       "      <td>8.0</td>\n",
       "      <td>61.4</td>\n",
       "      <td>26.5</td>\n",
       "      <td>0.6</td>\n",
       "      <td>...</td>\n",
       "      <td>1.0</td>\n",
       "      <td>0.8</td>\n",
       "      <td>1.5</td>\n",
       "      <td>23.1</td>\n",
       "      <td>1482</td>\n",
       "      <td>73.3</td>\n",
       "      <td>21.1</td>\n",
       "      <td>4.8</td>\n",
       "      <td>0.7</td>\n",
       "      <td>4.7</td>\n",
       "    </tr>\n",
       "    <tr>\n",
       "      <th>3</th>\n",
       "      <td>1001020400</td>\n",
       "      <td>Alabama</td>\n",
       "      <td>Autauga County</td>\n",
       "      <td>4267</td>\n",
       "      <td>2001</td>\n",
       "      <td>2266</td>\n",
       "      <td>9.6</td>\n",
       "      <td>80.3</td>\n",
       "      <td>7.1</td>\n",
       "      <td>0.5</td>\n",
       "      <td>...</td>\n",
       "      <td>1.5</td>\n",
       "      <td>2.9</td>\n",
       "      <td>2.1</td>\n",
       "      <td>25.9</td>\n",
       "      <td>1849</td>\n",
       "      <td>75.8</td>\n",
       "      <td>19.7</td>\n",
       "      <td>4.5</td>\n",
       "      <td>0.0</td>\n",
       "      <td>6.1</td>\n",
       "    </tr>\n",
       "    <tr>\n",
       "      <th>4</th>\n",
       "      <td>1001020500</td>\n",
       "      <td>Alabama</td>\n",
       "      <td>Autauga County</td>\n",
       "      <td>9965</td>\n",
       "      <td>5054</td>\n",
       "      <td>4911</td>\n",
       "      <td>0.9</td>\n",
       "      <td>77.5</td>\n",
       "      <td>16.4</td>\n",
       "      <td>0.0</td>\n",
       "      <td>...</td>\n",
       "      <td>0.8</td>\n",
       "      <td>0.3</td>\n",
       "      <td>0.7</td>\n",
       "      <td>21.0</td>\n",
       "      <td>4787</td>\n",
       "      <td>71.4</td>\n",
       "      <td>24.1</td>\n",
       "      <td>4.5</td>\n",
       "      <td>0.0</td>\n",
       "      <td>2.3</td>\n",
       "    </tr>\n",
       "  </tbody>\n",
       "</table>\n",
       "<p>5 rows × 37 columns</p>\n",
       "</div>"
      ],
      "text/plain": [
       "      TractId    State          County  TotalPop   Men  Women  Hispanic  \\\n",
       "0  1001020100  Alabama  Autauga County      1845   899    946       2.4   \n",
       "1  1001020200  Alabama  Autauga County      2172  1167   1005       1.1   \n",
       "2  1001020300  Alabama  Autauga County      3385  1533   1852       8.0   \n",
       "3  1001020400  Alabama  Autauga County      4267  2001   2266       9.6   \n",
       "4  1001020500  Alabama  Autauga County      9965  5054   4911       0.9   \n",
       "\n",
       "   White  Black  Native  ...  Walk  OtherTransp  WorkAtHome  MeanCommute  \\\n",
       "0   86.3    5.2     0.0  ...   0.5          0.0         2.1         24.5   \n",
       "1   41.6   54.5     0.0  ...   0.0          0.5         0.0         22.2   \n",
       "2   61.4   26.5     0.6  ...   1.0          0.8         1.5         23.1   \n",
       "3   80.3    7.1     0.5  ...   1.5          2.9         2.1         25.9   \n",
       "4   77.5   16.4     0.0  ...   0.8          0.3         0.7         21.0   \n",
       "\n",
       "   Employed  PrivateWork  PublicWork  SelfEmployed  FamilyWork  Unemployment  \n",
       "0       881         74.2        21.2           4.5         0.0           4.6  \n",
       "1       852         75.9        15.0           9.0         0.0           3.4  \n",
       "2      1482         73.3        21.1           4.8         0.7           4.7  \n",
       "3      1849         75.8        19.7           4.5         0.0           6.1  \n",
       "4      4787         71.4        24.1           4.5         0.0           2.3  \n",
       "\n",
       "[5 rows x 37 columns]"
      ]
     },
     "execution_count": 1,
     "metadata": {},
     "output_type": "execute_result"
    }
   ],
   "source": [
    "import pandas as pd\n",
    "import numpy as np\n",
    "\n",
    "df = pd.read_csv('acs2017_census_tract_data.csv', encoding='unicode_escape', low_memory=False) # read in the csv file\n",
    "\n",
    "df.head()"
   ]
  },
  {
   "cell_type": "code",
   "execution_count": 2,
   "metadata": {},
   "outputs": [
    {
     "name": "stdout",
     "output_type": "stream",
     "text": [
      "<class 'pandas.core.frame.DataFrame'>\n",
      "RangeIndex: 74001 entries, 0 to 74000\n",
      "Data columns (total 37 columns):\n",
      "TractId             74001 non-null int64\n",
      "State               74001 non-null object\n",
      "County              74001 non-null object\n",
      "TotalPop            74001 non-null int64\n",
      "Men                 74001 non-null int64\n",
      "Women               74001 non-null int64\n",
      "Hispanic            73305 non-null float64\n",
      "White               73305 non-null float64\n",
      "Black               73305 non-null float64\n",
      "Native              73305 non-null float64\n",
      "Asian               73305 non-null float64\n",
      "Pacific             73305 non-null float64\n",
      "VotingAgeCitizen    74001 non-null int64\n",
      "Income              72885 non-null float64\n",
      "IncomeErr           72885 non-null float64\n",
      "IncomePerCap        73256 non-null float64\n",
      "IncomePerCapErr     73256 non-null float64\n",
      "Poverty             73159 non-null float64\n",
      "ChildPoverty        72891 non-null float64\n",
      "Professional        73190 non-null float64\n",
      "Service             73190 non-null float64\n",
      "Office              73190 non-null float64\n",
      "Construction        73190 non-null float64\n",
      "Production          73190 non-null float64\n",
      "Drive               73200 non-null float64\n",
      "Carpool             73200 non-null float64\n",
      "Transit             73200 non-null float64\n",
      "Walk                73200 non-null float64\n",
      "OtherTransp         73200 non-null float64\n",
      "WorkAtHome          73200 non-null float64\n",
      "MeanCommute         73055 non-null float64\n",
      "Employed            74001 non-null int64\n",
      "PrivateWork         73190 non-null float64\n",
      "PublicWork          73190 non-null float64\n",
      "SelfEmployed        73190 non-null float64\n",
      "FamilyWork          73190 non-null float64\n",
      "Unemployment        73191 non-null float64\n",
      "dtypes: float64(29), int64(6), object(2)\n",
      "memory usage: 20.9+ MB\n"
     ]
    }
   ],
   "source": [
    "df.info()"
   ]
  },
  {
   "cell_type": "code",
   "execution_count": 3,
   "metadata": {},
   "outputs": [],
   "source": [
    "# removing all missing data\n",
    "\n",
    "df.replace('', np.nan, inplace=True)\n",
    "df.dropna(inplace=True)"
   ]
  },
  {
   "cell_type": "code",
   "execution_count": 4,
   "metadata": {},
   "outputs": [
    {
     "name": "stdout",
     "output_type": "stream",
     "text": [
      "Unique State values: 52 , code: 52\n"
     ]
    }
   ],
   "source": [
    "# convert the object columns into categorical int type\n",
    "\n",
    "from sklearn.preprocessing import LabelEncoder\n",
    "\n",
    "#drop the county section because it does not give us any contribution data\n",
    "df = df.drop('County', axis=1)\n",
    "\n",
    "# quantify the state column\n",
    "lb_make = LabelEncoder()\n",
    "df[\"state_code\"] = lb_make.fit_transform(df[\"State\"])\n",
    "\n",
    "print('Unique State values:',len(np.unique(df['State'])),\", code:\", len(np.unique(df['state_code'])))\n",
    "\n",
    "# remove the colums of type object\n",
    "df1 = df.select_dtypes(exclude='object')\n",
    "\n"
   ]
  },
  {
   "cell_type": "code",
   "execution_count": 5,
   "metadata": {},
   "outputs": [
    {
     "data": {
      "image/png": "[encoded data removed]",
      "text/plain": [
       "<Figure size 432x288 with 1 Axes>"
      ]
     },
     "metadata": {
      "needs_background": "light"
     },
     "output_type": "display_data"
    }
   ],
   "source": [
    "# X should drop Child povetry as well as TractId since it is arbitrary number\n",
    "X = df1.drop(['ChildPoverty','TractId'], axis=1)\n",
    "\n",
    "hist = df['ChildPoverty'].hist(bins=20)\n"
   ]
  },
  {
   "cell_type": "code",
   "execution_count": 6,
   "metadata": {},
   "outputs": [
    {
     "name": "stdout",
     "output_type": "stream",
     "text": [
      "Number of classes in Y: 4\n",
      "0  - child poverty percentage less than 6.2 : 18019\n",
      "1  - child poverty percentage less than 16.3 : 18220\n",
      "2  - child poverty percentage less than 31.6 : 18214\n",
      "3  - child povetry percentage is 31.6 or more: 18265\n"
     ]
    }
   ],
   "source": [
    "#set Y into 4 categories\n",
    "Y = []\n",
    "\n",
    "med = np.median(df['ChildPoverty'])\n",
    "per25 = np.percentile(df['ChildPoverty'], 25)\n",
    "per75 = np.percentile(df['ChildPoverty'], 75)\n",
    "\n",
    "for x in df['ChildPoverty']:\n",
    "    if x < per25:\n",
    "        Y.append(0)\n",
    "    elif x < med:\n",
    "        Y.append(1)\n",
    "    elif x < per75:\n",
    "        Y.append(2)\n",
    "    else:\n",
    "        Y.append(3)\n",
    "\n",
    "Y = np.array(Y)\n",
    "print(\"Number of classes in Y:\",len(np.unique(Y)))\n",
    "unique_elements, counts_elements = np.unique(Y, return_counts=True)\n",
    "povList = [per25, med, per75]\n",
    "for i in range(3):\n",
    "    print(unique_elements[i],' - child poverty percentage less than', povList[i], ':', counts_elements[i])\n",
    "print(unique_elements[3],' - child povetry percentage is',povList[2],'or more:',counts_elements[3])"
   ]
  },
  {
   "cell_type": "markdown",
   "metadata": {},
   "source": [
    "I chose to classify the child povetry percentage by dividing it into four equally groups. They are not exactly equal since there are many values which equal to the 25th and the 75th percentile as well as the median. I chose this way because we were not given any idea of what treshold we are looking for and I did not want to set one by myself. Since we have not expectation values for what is low or high rate, I wanted to split it as equally as possible, which naturally will set our low and high rate values."
   ]
  },
  {
   "cell_type": "code",
   "execution_count": 7,
   "metadata": {},
   "outputs": [
    {
     "name": "stdout",
     "output_type": "stream",
     "text": [
      "X_train shape: (58174, 34)\n",
      "X_test shape: (14544, 34)\n",
      "Y_train shape: (58174,)\n",
      "Y_test shape: (14544,)\n",
      "\n",
      "Y_train:\n",
      "0 : 14415\n",
      "1 : 14576\n",
      "2 : 14571\n",
      "3 : 14612\n",
      "\n",
      "Y_test:\n",
      "0 : 3604\n",
      "1 : 3644\n",
      "2 : 3643\n",
      "3 : 3653\n"
     ]
    }
   ],
   "source": [
    "from sklearn.model_selection import train_test_split\n",
    "\n",
    "# spliting to train and test\n",
    "X_train, X_test, Y_train, Y_test = train_test_split(X, Y, test_size=0.20, random_state=42, stratify=Y)\n",
    "print('X_train shape:',X_train.shape)\n",
    "print('X_test shape:',X_test.shape)\n",
    "print('Y_train shape:',Y_train.shape)\n",
    "print('Y_test shape:',Y_test.shape)\n",
    "\n",
    "print('\\nY_train:')\n",
    "unique_elements, counts_elements = np.unique(Y_train, return_counts=True)\n",
    "for i in range(4):\n",
    "    print(unique_elements[i],':',counts_elements[i])\n",
    "    \n",
    "print('\\nY_test:')\n",
    "unique_elements, counts_elements = np.unique(Y_test, return_counts=True)\n",
    "for i in range(4):\n",
    "    print(unique_elements[i],':',counts_elements[i])"
   ]
  },
  {
   "cell_type": "markdown",
   "metadata": {},
   "source": [
    "I think we should balance both the training set and the testing set because in this way we will be able to test the performance of our model in the best way. Balancing just the training set and not the testing one may cause of not enough testing for one of the class compare to other, which can cause test result that are not accurate to the reall performance of the model. Since our classes in the target are about the same size, we should test the performance of our model predicting each class equally. "
   ]
  },
  {
   "cell_type": "markdown",
   "metadata": {},
   "source": [
    "### Pre-processing\n",
    "\n",
    "##### Not normalized, no one hot encoded"
   ]
  },
  {
   "cell_type": "code",
   "execution_count": 8,
   "metadata": {},
   "outputs": [],
   "source": [
    "from scipy.special import expit\n",
    "from sklearn.metrics import accuracy_score\n",
    "import sys\n",
    "\n",
    "class TwoLayerPerceptronBase(object):\n",
    "    def __init__(self, n_hidden=30,\n",
    "                 C=0.0, epochs=500, eta=0.001, random_state=None):\n",
    "        np.random.seed(random_state)\n",
    "        self.n_hidden = n_hidden\n",
    "        self.l2_C = C\n",
    "        self.epochs = epochs\n",
    "        self.eta = eta\n",
    "        \n",
    "    @staticmethod\n",
    "    def _encode_labels(y):\n",
    "        \"\"\"Encode labels into one-hot representation\"\"\"\n",
    "        onehot = pd.get_dummies(y).values.T\n",
    "            \n",
    "        return onehot\n",
    "\n",
    "    def _initialize_weights(self):\n",
    "        \"\"\"Initialize weights with small random numbers.\"\"\"\n",
    "        W1_num_elems = (self.n_features_ + 1)*self.n_hidden\n",
    "        W1 = np.random.uniform(-1.0, 1.0, size=W1_num_elems)\n",
    "        W1 = W1.reshape(self.n_hidden, self.n_features_ + 1) # reshape to be W\n",
    "        \n",
    "        W2_num_elems = (self.n_hidden + 1)*self.n_output_\n",
    "        W2 = np.random.uniform(-1.0, 1.0, size=W2_num_elems)\n",
    "        W2 = W2.reshape(self.n_output_, self.n_hidden + 1)\n",
    "        return W1, W2\n",
    "    \n",
    "    @staticmethod\n",
    "    def _sigmoid(z):\n",
    "        return expit(z)\n",
    "        \n",
    "            \n",
    "    \n",
    "    @staticmethod\n",
    "    def _add_bias_unit(X, how='column'):\n",
    "        \"\"\"Add bias unit (column or row of 1s) to array at index 0\"\"\"\n",
    "        if how == 'column':\n",
    "            ones = np.ones((X.shape[0], 1))\n",
    "            X_new = np.hstack((ones, X))\n",
    "        elif how == 'row':\n",
    "            ones = np.ones((1, X.shape[1]))\n",
    "            X_new = np.vstack((ones, X))\n",
    "        return X_new\n",
    "    \n",
    "    @staticmethod\n",
    "    def _L2_reg(lambda_, W1, W2):\n",
    "        \"\"\"Compute L2-regularization cost\"\"\"\n",
    "        # only compute for non-bias terms\n",
    "        return (lambda_/2.0) * np.sqrt(np.mean(W1[:, 1:] ** 2) + np.mean(W2[:, 1:] ** 2))\n",
    "    \n",
    "    def _cost(self,A3,Y_enc,W1,W2):\n",
    "        '''Get the objective function value'''\n",
    "        cost = np.mean((Y_enc-A3)**2)\n",
    "        L2_term = self._L2_reg(self.l2_C, W1, W2)\n",
    "        return cost + L2_term\n",
    "    \n",
    "\n",
    "class TwoLayerPerceptron(TwoLayerPerceptronBase):\n",
    "    def _feedforward(self, X, W1, W2):\n",
    "        \"\"\"Compute feedforward step\n",
    "        -----------\n",
    "        X : Input layer with original features.\n",
    "        W1: Weight matrix for input layer -> hidden layer.\n",
    "        W2: Weight matrix for hidden layer -> output layer.\n",
    "        ----------\n",
    "        a1-a3 : activations into layer (or output layer)\n",
    "        z1-z2 : layer inputs \n",
    "\n",
    "        \"\"\"\n",
    "        A1 = self._add_bias_unit(X.T, how='row')\n",
    "        Z1 = W1 @ A1\n",
    "        A2 = self._sigmoid(Z1)\n",
    "        A2 = self._add_bias_unit(A2, how='row')\n",
    "        Z2 = W2 @ A2\n",
    "        A3 = self._sigmoid(Z2)\n",
    "        return A1, Z1, A2, Z2, A3\n",
    "    \n",
    "    def _get_gradient(self, A1, A2, A3, Z1, Z2, Y_enc, W1, W2):\n",
    "        \"\"\" Compute gradient step using backpropagation.\n",
    "        \"\"\"\n",
    "        # vectorized backpropagation\n",
    "        V2 = -2*(Y_enc-A3)*A3*(1-A3)\n",
    "        V1 = A2*(1-A2)*(W2.T @ V2)\n",
    "        \n",
    "        grad2 = V2 @ A2.T\n",
    "        grad1 = V1[1:,:] @ A1.T\n",
    "        \n",
    "        \n",
    "        # regularize weights that are not bias terms\n",
    "        grad1[:, 1:] += W1[:, 1:] * self.l2_C\n",
    "        grad2[:, 1:] += W2[:, 1:] * self.l2_C\n",
    "\n",
    "        \n",
    "        return grad1, grad2\n",
    "    \n",
    "    def predict(self, X):\n",
    "        \"\"\"Predict class labels\"\"\"\n",
    "        _, _, _, _, A3 = self._feedforward(X, self.W1, self.W2)        \n",
    "        y_pred = np.argmax(A3, axis=0)\n",
    "        return y_pred \n",
    "    \n",
    "    \n",
    "    def fit(self, X, y, print_progress=False):\n",
    "        \"\"\" Learn weights from training data.\"\"\"\n",
    "        \n",
    "        X_data, y_data = X.copy(), y.copy()\n",
    "        \n",
    "        Y_enc = self._encode_labels(y)\n",
    "       \n",
    "\n",
    "        \n",
    "        # init weights and setup matrices\n",
    "        self.n_features_ = X_data.shape[1]\n",
    "        self.n_output_ = Y_enc.shape[0]\n",
    "        self.W1, self.W2 = self._initialize_weights()\n",
    "\n",
    "        self.cost_ = []\n",
    "        for i in range(self.epochs):\n",
    "\n",
    "            if print_progress>0 and (i+1)%print_progress==0:\n",
    "                sys.stderr.write('\\rEpoch: %d/%d' % (i+1, self.epochs))\n",
    "                sys.stderr.flush()\n",
    "\n",
    "            # feedforward all instances\n",
    "            A1, Z1, A2, Z2, A3 = self._feedforward(X_data,self.W1,self.W2)\n",
    "        \n",
    "            \n",
    "            cost = self._cost(A3,Y_enc,self.W1,self.W2)\n",
    "            self.cost_.append(cost)\n",
    "\n",
    "            # compute gradient via backpropagation\n",
    "            grad1, grad2 = self._get_gradient(A1=A1, A2=A2, A3=A3, Z1=Z1, Z2=Z2, Y_enc=Y_enc,\n",
    "                                              W1=self.W1, W2=self.W2)\n",
    "            \n",
    "            self.W1 -= self.eta * grad1\n",
    "            self.W2 -= self.eta * grad2\n",
    "            \n",
    "    \n",
    "        return self"
   ]
  },
  {
   "cell_type": "code",
   "execution_count": 9,
   "metadata": {},
   "outputs": [
    {
     "name": "stderr",
     "output_type": "stream",
     "text": [
      "Epoch: 100/100"
     ]
    },
    {
     "name": "stdout",
     "output_type": "stream",
     "text": [
      "Test acc: 0.2513751375137514\n",
      "Wall time: 32.1 s\n"
     ]
    }
   ],
   "source": [
    "%%time \n",
    "params = dict(n_hidden=50, \n",
    "              C = 0.01,\n",
    "              epochs=100, # iterations\n",
    "              eta=0.00001,  # learning rate\n",
    "              random_state=1)\n",
    "\n",
    "nn = TwoLayerPerceptron(**params)\n",
    "nn.fit(X_train, Y_train, print_progress=1)\n",
    "yhat_1 = nn.predict(X_test)\n",
    "\n",
    "print('Test acc:',accuracy_score(Y_test,yhat_1))"
   ]
  },
  {
   "cell_type": "code",
   "execution_count": 10,
   "metadata": {},
   "outputs": [],
   "source": [
    "# Function to print the result: how many from each optiona nd the cost graph\n",
    "import matplotlib.pyplot as plt\n",
    "\n",
    "def print_result(yhat,cost):\n",
    "    unique_elements, counts_elements = np.unique(yhat, return_counts=True)\n",
    "            \n",
    "    for idx,i in enumerate(unique_elements):\n",
    "        \n",
    "        print(i,':',counts_elements[idx])\n",
    "        \n",
    "    cost_avgs = [np.mean(x) for x in cost]\n",
    "\n",
    "    plt.plot(range(len(cost_avgs)), cost_avgs)\n",
    "    plt.ylabel('Cost')\n",
    "    plt.xlabel('Epochs')\n",
    "    plt.tight_layout()\n",
    "    plt.show()"
   ]
  },
  {
   "cell_type": "code",
   "execution_count": 11,
   "metadata": {},
   "outputs": [
    {
     "name": "stdout",
     "output_type": "stream",
     "text": [
      "0 : 133\n",
      "1 : 290\n",
      "2 : 14018\n",
      "3 : 103\n"
     ]
    },
    {
     "data": {
      "image/png": "[encoded data removed]",
      "text/plain": [
       "<Figure size 432x288 with 1 Axes>"
      ]
     },
     "metadata": {
      "needs_background": "light"
     },
     "output_type": "display_data"
    }
   ],
   "source": [
    "print_result(yhat_1,nn.cost_)"
   ]
  },
  {
   "cell_type": "markdown",
   "metadata": {},
   "source": [
    "##### Normalize with no one hot encoding:"
   ]
  },
  {
   "cell_type": "code",
   "execution_count": 12,
   "metadata": {},
   "outputs": [],
   "source": [
    "# Normalizing [-1,1]\n",
    "X_train_norm = -1 + ((X_train-X_train.min())*2/(X_train.max()-X_train.min()))\n",
    "X_test_norm = -1 + ((X_test-X_test.min())*2/(X_test.max()-X_test.min()))\n"
   ]
  },
  {
   "cell_type": "code",
   "execution_count": 13,
   "metadata": {},
   "outputs": [
    {
     "name": "stderr",
     "output_type": "stream",
     "text": [
      "Epoch: 100/100"
     ]
    },
    {
     "name": "stdout",
     "output_type": "stream",
     "text": [
      "Test acc: 0.5357535753575358\n",
      "Wall time: 29.4 s\n"
     ]
    }
   ],
   "source": [
    "%%time \n",
    "params = dict(n_hidden=80, \n",
    "              epochs=100, # iterations\n",
    "              eta=0.00001,  # learning rate\n",
    "              random_state=1)\n",
    "\n",
    "nn1 = TwoLayerPerceptron(**params)\n",
    "nn1.fit(X_train_norm, Y_train, print_progress=1)\n",
    "yhat_2 = nn1.predict(X_test_norm)\n",
    "\n",
    "print('Test acc:',accuracy_score(Y_test,yhat_2))"
   ]
  },
  {
   "cell_type": "code",
   "execution_count": 14,
   "metadata": {},
   "outputs": [
    {
     "name": "stdout",
     "output_type": "stream",
     "text": [
      "0 : 5120\n",
      "1 : 2160\n",
      "2 : 2573\n",
      "3 : 4691\n"
     ]
    },
    {
     "data": {
      "image/png": "[encoded data removed]",
      "text/plain": [
       "<Figure size 432x288 with 1 Axes>"
      ]
     },
     "metadata": {
      "needs_background": "light"
     },
     "output_type": "display_data"
    }
   ],
   "source": [
    "print_result(yhat_2,nn1.cost_)"
   ]
  },
  {
   "cell_type": "markdown",
   "metadata": {},
   "source": [
    "##### Normalized and one hot encoded:"
   ]
  },
  {
   "cell_type": "code",
   "execution_count": 15,
   "metadata": {},
   "outputs": [],
   "source": [
    "#change  the state_code column into a 1 hot encoding columns in both train and test data\n",
    "\n",
    "train_state_ones = pd.get_dummies(X_train_norm[\"state_code\"]).values\n",
    "X_train_onehot = X_train_norm.drop([\"state_code\"], axis=1)\n",
    "X_train_onehot = np.hstack((train_state_ones, X_train_onehot))\n",
    "\n",
    "test_state_ones = pd.get_dummies(X_test_norm[\"state_code\"]).values\n",
    "X_test_onehot = X_test_norm.drop([\"state_code\"], axis=1)\n",
    "X_test_onehot = np.hstack((test_state_ones, X_test_onehot))\n"
   ]
  },
  {
   "cell_type": "code",
   "execution_count": 16,
   "metadata": {},
   "outputs": [
    {
     "name": "stderr",
     "output_type": "stream",
     "text": [
      "Epoch: 100/100"
     ]
    },
    {
     "name": "stdout",
     "output_type": "stream",
     "text": [
      "Test acc: 0.5006188118811881\n",
      "Wall time: 31.3 s\n"
     ]
    }
   ],
   "source": [
    "%%time \n",
    "params = dict(n_hidden=80, \n",
    "              epochs=100, # iterations\n",
    "              eta=0.00001,  # learning rate\n",
    "              random_state=1)\n",
    "\n",
    "nn2 = TwoLayerPerceptron(**params)\n",
    "nn2.fit(X_train_onehot, Y_train, print_progress=1)\n",
    "yhat_3 = nn2.predict(X_test_onehot)\n",
    "\n",
    "print('Test acc:',accuracy_score(Y_test,yhat_3))\n"
   ]
  },
  {
   "cell_type": "code",
   "execution_count": 17,
   "metadata": {},
   "outputs": [
    {
     "name": "stdout",
     "output_type": "stream",
     "text": [
      "0 : 4088\n",
      "1 : 2570\n",
      "2 : 3829\n",
      "3 : 4057\n"
     ]
    },
    {
     "data": {
      "image/png": "[encoded data removed]",
      "text/plain": [
       "<Figure size 432x288 with 1 Axes>"
      ]
     },
     "metadata": {
      "needs_background": "light"
     },
     "output_type": "display_data"
    }
   ],
   "source": [
    "print_result(yhat_3,nn2.cost_)"
   ]
  },
  {
   "cell_type": "markdown",
   "metadata": {},
   "source": [
    "### Comparison between the three models:\n",
    "\n",
    "I will use the The McNemar’s test statistic. My null hypothesys will be that model x and model y are the same. In order to reject it with a confidence of 90%, I will need a chi square value higher than 2.706."
   ]
  },
  {
   "cell_type": "code",
   "execution_count": 18,
   "metadata": {},
   "outputs": [
    {
     "name": "stdout",
     "output_type": "stream",
     "text": [
      "model 0 is different than model 1 with 90% confidence\n",
      "model 1 is different than model 2 with 90% confidence\n",
      "model 0 is different than model 2 with 90% confidence\n"
     ]
    }
   ],
   "source": [
    "# return a bool if we 90% confident to reject the null hypothesis\n",
    "def get_chi_square(b,c):\n",
    "    chi_square = (abs(b-c)-1)**2/(b+c)\n",
    "    return chi_square > 2.706\n",
    "\n",
    "yhat1_acc = yhat_1 == Y_test\n",
    "yhat2_acc = yhat_2 == Y_test\n",
    "yhat3_acc = yhat_3 == Y_test\n",
    "\n",
    "\n",
    "acc_list = [yhat1_acc,yhat2_acc,yhat3_acc]\n",
    "pairs_to_compare = [[0,1],[1,2],[0,2]]\n",
    "\n",
    "for x,y in pairs_to_compare:    \n",
    "    b = 0 # x correct, y not\n",
    "    c = 0 # y correct, x not\n",
    "\n",
    "    for i in range(len(Y_test)):\n",
    "        if acc_list[x][i] and not acc_list[y][i]:\n",
    "            b += 1\n",
    "        elif not acc_list[x][i] and acc_list[y][i]:\n",
    "            c += 1\n",
    "    \n",
    "    if get_chi_square(b,c):\n",
    "        print('model',x, 'is different than model',y,'with 90% confidence')\n",
    "    else:\n",
    "        print('we can not assume that model',x,'is different than model',y)\n",
    "    "
   ]
  },
  {
   "cell_type": "markdown",
   "metadata": {},
   "source": [
    "We see that all the model are different than each other, means that according to our accuracy results, the second model, where we normalized the data but did not one hot encode the states, is the best model amoung the three."
   ]
  },
  {
   "cell_type": "markdown",
   "metadata": {},
   "source": [
    "### Modeling\n",
    "\n",
    "I wrote a model which is flexible with the number of layers of neurons we can use"
   ]
  },
  {
   "cell_type": "code",
   "execution_count": 19,
   "metadata": {},
   "outputs": [],
   "source": [
    "class MultiLayerPerceptronBase(object):\n",
    "    def __init__(self, n_hidden=30,\n",
    "                 C=0.0, epochs=50, eta=0.00001, random_state=None, layers = 3):\n",
    "        np.random.seed(random_state)\n",
    "        self.n_hidden = n_hidden\n",
    "        self.l2_C = C\n",
    "        self.epochs = epochs\n",
    "        self.eta = eta\n",
    "        self.layers = layers\n",
    "        \n",
    "    @staticmethod\n",
    "    def _encode_labels(y):\n",
    "        \"\"\"Encode labels into one-hot representation\"\"\"\n",
    "        onehot = pd.get_dummies(y).values.T \n",
    "        return onehot\n",
    "\n",
    "    def _initialize_weights(self):\n",
    "        \"\"\"Initialize weights with small random numbers.\"\"\"\n",
    "        \n",
    "        Ws = []\n",
    "\n",
    "        rows = self.n_hidden\n",
    "        cols = self.n_features_ + 1\n",
    "        for i in range(self.layers - 1):\n",
    "            num_elems = rows*cols\n",
    "            W1 = np.random.uniform(-1.0, 1.0, size=num_elems)\n",
    "            W1 = W1.reshape(rows, cols) # reshape to be W\n",
    "            Ws.append(W1)\n",
    "            cols = rows + 1\n",
    "               \n",
    "        \n",
    "        W2_num_elems = (self.n_hidden + 1)*self.n_output_\n",
    "        W2 = np.random.uniform(-1.0, 1.0, size=W2_num_elems)\n",
    "        W2 = W2.reshape(self.n_output_, self.n_hidden + 1)\n",
    "        Ws.append(W2)\n",
    "        \n",
    "        return Ws\n",
    "    \n",
    "    @staticmethod\n",
    "    def _sigmoid(z):\n",
    "        return expit(z)\n",
    "    \n",
    "    @staticmethod\n",
    "    def _add_bias_unit(X, how='column'):\n",
    "        \"\"\"Add bias unit (column or row of 1s) to array at index 0\"\"\"\n",
    "        if how == 'column':\n",
    "            ones = np.ones((X.shape[0], 1))\n",
    "            X_new = np.hstack((ones, X))\n",
    "        elif how == 'row':\n",
    "            ones = np.ones((1, X.shape[1]))\n",
    "            X_new = np.vstack((ones, X))\n",
    "        return X_new\n",
    "    \n",
    "    @staticmethod\n",
    "    def _L2_reg(lambda_, Ws):\n",
    "        \"\"\"Compute L2-regularization cost\"\"\"\n",
    "        # only compute for non-bias terms\n",
    "        total = 0\n",
    "        for w in Ws:\n",
    "            total += np.mean(w[:, 1:] ** 2)\n",
    "        \n",
    "        return (lambda_/2.0) * np.sqrt(total)\n",
    "    \n",
    "    def _cost(self,A3,Y_enc,Ws):\n",
    "        '''Get the objective function value'''\n",
    "        cost = np.mean((Y_enc-A3)**2)\n",
    "        L2_term = self._L2_reg(self.l2_C, Ws)\n",
    "        return cost + L2_term\n",
    "    \n",
    "\n",
    "class MultiLayerPerceptron(MultiLayerPerceptronBase):\n",
    "    def _feedforward(self, X, Ws):\n",
    "        \n",
    "        As = []\n",
    "        Zs = []\n",
    "        A = self._add_bias_unit(X.T, how='row')\n",
    "        As.append(A)\n",
    "        \n",
    "        for i,w in enumerate(Ws):\n",
    "            Z1 = w @ A\n",
    "            Zs.append(Z1)\n",
    "            A = self._sigmoid(Z1)\n",
    "            if i != len(Ws) - 1: # not adding biasing for the last A\n",
    "                A = self._add_bias_unit(A, how='row')\n",
    "            As.append(A)\n",
    "            \n",
    "        return As, Zs\n",
    "            \n",
    "    \n",
    "    def _get_gradient(self, As, Zs, Y_enc, Ws): \n",
    "        grads = []\n",
    "        Vs = []\n",
    "        \n",
    "        # vectorized backpropagation\n",
    "        V2 = -2*(Y_enc-As[-1])*As[-1]*(1-As[-1])\n",
    "        Vs.append(V2)\n",
    "        \n",
    "        for i in range(len(As)-2,0,-1):\n",
    "            if i != self.layers-1:\n",
    "                # need to take off the bias\n",
    "                V1 = (As[i]*(1-As[i]))*(Ws[i].T @ Vs[0][1:,:])\n",
    "            else:\n",
    "                V1 = As[i]*(1-As[i])*(Ws[i].T @ Vs[0])\n",
    "            Vs.insert(0,V1) \n",
    "        \n",
    "        lastV = len(Vs)-1\n",
    "        for i,v in enumerate(Vs):\n",
    "            if i != lastV:\n",
    "                g = v[1:,:] @ As[i].T \n",
    "                grads.append(g)            \n",
    "        \n",
    "        grads.append(Vs[lastV] @ As[lastV].T)\n",
    "        \n",
    "        \n",
    "        for i,w in enumerate(Ws):\n",
    "            grads[i][:, 1:] += w[:, 1:] * self.l2_C\n",
    "\n",
    "        return grads\n",
    "    \n",
    "    def predict(self, X):\n",
    "        \"\"\"Predict class labels\"\"\"\n",
    "        As, _ = self._feedforward(X, self.Ws)        \n",
    "        y_pred = np.argmax(As[-1], axis=0)\n",
    "        return y_pred \n",
    "    \n",
    "    \n",
    "    def fit(self, X, y, print_progress=False):\n",
    "        \"\"\" Learn weights from training data.\"\"\"\n",
    "        \n",
    "        X_data, y_data = X.copy(), y.copy()\n",
    "        \n",
    "        Y_enc = self._encode_labels(y)\n",
    "        \n",
    "        # init weights and setup matrices\n",
    "        self.n_features_ = X_data.shape[1]\n",
    "        self.n_output_ = Y_enc.shape[0]\n",
    "        self.Ws = self._initialize_weights()\n",
    "\n",
    "        self.cost_ = []\n",
    "        for i in range(self.epochs):\n",
    "\n",
    "            if print_progress>0 and (i+1)%print_progress==0:\n",
    "                sys.stderr.write('\\rEpoch: %d/%d' % (i+1, self.epochs))\n",
    "                sys.stderr.flush()\n",
    "\n",
    "            # feedforward all instances\n",
    "            As, Zs = self._feedforward(X_data,self.Ws)\n",
    "\n",
    "            \n",
    "            cost = self._cost(As[-1],Y_enc,self.Ws)\n",
    "            self.cost_.append(cost)\n",
    "\n",
    "            # compute gradient via backpropagation\n",
    "            grads = self._get_gradient(As=As, Zs=Zs, Y_enc=Y_enc, Ws=self.Ws)\n",
    "            \n",
    "            for j,w in enumerate(self.Ws):\n",
    "                self.Ws[j] -= self.eta * grads[j] \n",
    "            \n",
    "    \n",
    "        return self"
   ]
  },
  {
   "cell_type": "code",
   "execution_count": 20,
   "metadata": {},
   "outputs": [
    {
     "name": "stderr",
     "output_type": "stream",
     "text": [
      "Epoch: 70/70"
     ]
    },
    {
     "name": "stdout",
     "output_type": "stream",
     "text": [
      "Test acc: 0.47483498349834985\n",
      "0 : 5636\n",
      "1 : 2794\n",
      "2 : 1321\n",
      "3 : 4793\n"
     ]
    },
    {
     "data": {
      "image/png": "[encoded data removed]",
      "text/plain": [
       "<Figure size 432x288 with 1 Axes>"
      ]
     },
     "metadata": {
      "needs_background": "light"
     },
     "output_type": "display_data"
    }
   ],
   "source": [
    "# Three layers \n",
    "\n",
    "params = dict(n_hidden=70, \n",
    "              epochs=70, \n",
    "              eta=0.00001,  \n",
    "              random_state=1,\n",
    "              layers = 3)\n",
    "\n",
    "MLP3 = MultiLayerPerceptron(**params)\n",
    "MLP3.fit(X_train_onehot, Y_train, print_progress=1)\n",
    "yhat = MLP3.predict(X_test_onehot)\n",
    "\n",
    "print('Test acc:',accuracy_score(Y_test,yhat))\n",
    "print_result(yhat,MLP3.cost_)"
   ]
  },
  {
   "cell_type": "code",
   "execution_count": 21,
   "metadata": {},
   "outputs": [
    {
     "name": "stderr",
     "output_type": "stream",
     "text": [
      "Epoch: 100/100"
     ]
    },
    {
     "name": "stdout",
     "output_type": "stream",
     "text": [
      "Test acc: 0.47634763476347636\n",
      "0 : 6997\n",
      "1 : 1303\n",
      "2 : 1289\n",
      "3 : 4955\n"
     ]
    },
    {
     "data": {
      "image/png": "[encoded data removed]",
      "text/plain": [
       "<Figure size 432x288 with 1 Axes>"
      ]
     },
     "metadata": {
      "needs_background": "light"
     },
     "output_type": "display_data"
    }
   ],
   "source": [
    "# 4 Layers\n",
    "\n",
    "params = dict(n_hidden=50, \n",
    "              epochs=100, \n",
    "              eta=0.00001,  \n",
    "              random_state=1,\n",
    "              layers = 4)\n",
    "\n",
    "\n",
    "MLP4 = MultiLayerPerceptron(**params)\n",
    "MLP4.fit(X_train_onehot, Y_train, print_progress=1)\n",
    "yhat = MLP4.predict(X_test_onehot)\n",
    "\n",
    "print('Test acc:',accuracy_score(Y_test,yhat))\n",
    "print_result(yhat,MLP4.cost_)"
   ]
  },
  {
   "cell_type": "code",
   "execution_count": 36,
   "metadata": {},
   "outputs": [
    {
     "name": "stderr",
     "output_type": "stream",
     "text": [
      "Epoch: 100/100"
     ]
    },
    {
     "name": "stdout",
     "output_type": "stream",
     "text": [
      "Test acc: 0.49257425742574257\n",
      "0 : 3026\n",
      "1 : 1759\n",
      "2 : 2787\n",
      "3 : 6972\n"
     ]
    },
    {
     "data": {
      "image/png": "[encoded data removed]",
      "text/plain": [
       "<Figure size 432x288 with 1 Axes>"
      ]
     },
     "metadata": {
      "needs_background": "light"
     },
     "output_type": "display_data"
    }
   ],
   "source": [
    "# 5 Layers\n",
    "\n",
    "params = dict(n_hidden=50, \n",
    "              epochs=100, \n",
    "              eta=0.00001,  \n",
    "              random_state=1,\n",
    "              layers = 5)\n",
    "\n",
    "MLP5 = MultiLayerPerceptron(**params)\n",
    "MLP5.fit(X_train_norm, Y_train, print_progress=1)\n",
    "yhat_5 = MLP5.predict(X_test_norm)\n",
    "\n",
    "print('Test acc:',accuracy_score(Y_test,yhat_5))\n",
    "print_result(yhat_5,MLP5.cost_)"
   ]
  },
  {
   "cell_type": "markdown",
   "metadata": {},
   "source": [
    "### Implementation of an adaptive learning technique\n",
    "\n",
    "#### Momentum"
   ]
  },
  {
   "cell_type": "code",
   "execution_count": 119,
   "metadata": {},
   "outputs": [],
   "source": [
    "class MLPmomentum(MultiLayerPerceptron):\n",
    "    def fit(self, X, y, print_progress=False, alpha = 0.1):\n",
    "\n",
    "        self.alpha = alpha\n",
    "        X_data, y_data = X.copy(), y.copy()\n",
    "        \n",
    "        Y_enc = self._encode_labels(y)\n",
    "        \n",
    "        # init weights and setup matrices\n",
    "        self.n_features_ = X_data.shape[1]\n",
    "        self.n_output_ = Y_enc.shape[0]\n",
    "        self.Ws = self._initialize_weights()\n",
    "        \n",
    "        #current delta, so we can use it in the for loop\n",
    "        curr_delta = []\n",
    "        # start momentum at zero for previous updates\n",
    "        delta_prev = []\n",
    "        for w in self.Ws:\n",
    "            delta_prev.append(np.zeros(w.shape))\n",
    "            curr_delta.append(np.zeros(w.shape))\n",
    "\n",
    "        self.cost_ = []\n",
    "        for j in range(self.epochs):\n",
    "\n",
    "            #adaptive learning rate\n",
    "            self.eta *= 0.99\n",
    "            \n",
    "            if print_progress>0 and (j+1)%print_progress==0:\n",
    "                sys.stderr.write('\\rEpoch: %d/%d' % (j+1, self.epochs))\n",
    "                sys.stderr.flush()\n",
    "\n",
    "            # feedforward all instances\n",
    "            As, Zs = self._feedforward(X_data,self.Ws)\n",
    "            \n",
    "            cost = self._cost(As[-1],Y_enc,self.Ws)\n",
    "            self.cost_.append(cost)\n",
    "\n",
    "            # compute gradient via backpropagation\n",
    "            grads = self._get_gradient(As=As, Zs=Zs, Y_enc=Y_enc, Ws=self.Ws)\n",
    "            \n",
    "            # use momentum\n",
    "            for i in range(len(delta_prev)):\n",
    "                curr_delta[i] = self.eta * grads[i]\n",
    "                self.Ws[i] -= (curr_delta[i] + (self.alpha * delta_prev[i])) # update with momentum\n",
    "                \n",
    "            #update prev delta:\n",
    "            for i in range(len(delta_prev)):\n",
    "                curr_delta[i] = delta_prev[i]\n",
    "    \n",
    "        return self"
   ]
  },
  {
   "cell_type": "code",
   "execution_count": 120,
   "metadata": {},
   "outputs": [
    {
     "name": "stderr",
     "output_type": "stream",
     "text": [
      "Epoch: 120/120"
     ]
    },
    {
     "name": "stdout",
     "output_type": "stream",
     "text": [
      "Test acc: 0.4991061606160616\n"
     ]
    }
   ],
   "source": [
    "params = dict(n_hidden=25, \n",
    "              epochs=120, \n",
    "              eta=0.00005,  # larger eta since we using an adaptive technique\n",
    "              random_state=1,\n",
    "              layers = 5)\n",
    "\n",
    "MLP_mom = MLPmomentum(**params)\n",
    "MLP_mom.fit(X_train_norm, Y_train, print_progress=1, alpha = 0.01)\n",
    "yhat_mom = MLP_mom.predict(X_test_norm)\n",
    "\n",
    "print('Test acc:',accuracy_score(Y_test,yhat_mom))"
   ]
  },
  {
   "cell_type": "code",
   "execution_count": 121,
   "metadata": {},
   "outputs": [
    {
     "name": "stdout",
     "output_type": "stream",
     "text": [
      "0 : 6888\n",
      "1 : 1122\n",
      "2 : 1501\n",
      "3 : 5033\n"
     ]
    },
    {
     "data": {
      "image/png": "[encoded data removed]",
      "text/plain": [
       "<Figure size 432x288 with 1 Axes>"
      ]
     },
     "metadata": {
      "needs_background": "light"
     },
     "output_type": "display_data"
    }
   ],
   "source": [
    "print_result(yhat_mom,MLP_mom.cost_)"
   ]
  },
  {
   "cell_type": "markdown",
   "metadata": {},
   "source": [
    "### Comparison between regular 5 layers perceptron and one with adaptive technique\n",
    "Like I did before, I will use the McNemar’s test statistic to compare between the two models."
   ]
  },
  {
   "cell_type": "code",
   "execution_count": 122,
   "metadata": {},
   "outputs": [
    {
     "name": "stdout",
     "output_type": "stream",
     "text": [
      "we can not assume that model 0 is different than model 2\n"
     ]
    }
   ],
   "source": [
    "yhat5_acc = yhat_5 == Y_test\n",
    "yhat_mom_acc = yhat_mom == Y_test\n",
    " \n",
    "b = 0 # no momentum correct, momentum not\n",
    "c = 0 # momentum correct, no momentum not\n",
    "\n",
    "for i in range(len(Y_test)):\n",
    "    if yhat5_acc[i] and not yhat_mom_acc[i]:\n",
    "        b += 1\n",
    "    elif not yhat5_acc[i] and yhat_mom_acc[i]:\n",
    "        c += 1\n",
    "    \n",
    "if get_chi_square(b,c):\n",
    "    print('model',x, 'is different than model',y,'with 90% confidence')\n",
    "else:\n",
    "    print('we can not assume that model',x,'is different than model',y)"
   ]
  },
  {
   "cell_type": "markdown",
   "metadata": {},
   "source": [
    "\n",
    "From the comparison we can see that the two models, the 5 layers proceptron with no adaptive technique and the one with adaptive technque are different from one another. If we will compare between their accuarcy, the one with momentum adaptive technique is performing a little bit better than the other one. Since the difference is so small (about 1%) and in the one with the momentum I had more epoches, we cannot say for sure that the one model is better than the other. "
   ]
  },
  {
   "cell_type": "markdown",
   "metadata": {},
   "source": [
    "### Exceptional Work\n",
    "\n",
    "#### Implement adaptive momentum (AdaM)"
   ]
  },
  {
   "cell_type": "code",
   "execution_count": 42,
   "metadata": {},
   "outputs": [],
   "source": [
    "class MLP_AdaM(MultiLayerPerceptron):\n",
    "    def fit(self, X, y, print_progress=False):\n",
    "\n",
    "        X_data, y_data = X.copy(), y.copy()\n",
    "        \n",
    "        Y_enc = self._encode_labels(y)\n",
    "        \n",
    "        # init weights and setup matrices\n",
    "        self.n_features_ = X_data.shape[1]\n",
    "        self.n_output_ = Y_enc.shape[0]\n",
    "        self.Ws = self._initialize_weights()\n",
    "        \n",
    "        # initialize all the parameters \n",
    "        beta1 = 0.9\n",
    "        beta2 = 0.999\n",
    "        epsilon = 10**-8\n",
    "        mt = []\n",
    "        vt = []\n",
    "        prev_mt = []\n",
    "        prev_vt = []\n",
    "        mt_hat = []\n",
    "        vt_hat = []\n",
    "        \n",
    "        for w in self.Ws:\n",
    "            prev_mt.append(np.zeros(w.shape))\n",
    "            prev_vt.append(np.zeros(w.shape))\n",
    "\n",
    "        self.cost_ = []\n",
    "        for j in range(self.epochs):\n",
    "            \n",
    "            if print_progress>0 and (j+1)%print_progress==0:\n",
    "                sys.stderr.write('\\rEpoch: %d/%d' % (j+1, self.epochs))\n",
    "                sys.stderr.flush()\n",
    "\n",
    "            # feedforward all instances\n",
    "            As, Zs = self._feedforward(X_data,self.Ws)\n",
    "            \n",
    "            cost = self._cost(As[-1],Y_enc,self.Ws)\n",
    "            self.cost_.append(cost)\n",
    "\n",
    "            # compute gradient via backpropagation\n",
    "            grads = self._get_gradient(As=As, Zs=Zs, Y_enc=Y_enc, Ws=self.Ws)\n",
    "            \n",
    "            # calculate mt - grad momentum, vt - square grad momentum\n",
    "            for i in range(len(prev_mt)):\n",
    "                # for the first time just append, later update\n",
    "                if j == 0:\n",
    "                    mt.append(beta1 * prev_mt[i] + (1-beta1) * grads[i])\n",
    "                    vt.append(beta2 * prev_vt[i] + (1-beta2) * ((grads[i])**2))\n",
    "                    mt_hat.append(mt[i]/(1-beta1))\n",
    "                    vt_hat.append(vt[i]/(1-beta2))\n",
    "                else:\n",
    "                    mt[i] = beta1 * prev_mt[i] + (1-beta1) * grads[i]\n",
    "                    vt[i] = beta2 * prev_vt[i] + (1-beta2) * ((grads[i])**2)\n",
    "                    mt_hat[i] = mt[i]/(1-(beta1**j))\n",
    "                    vt_hat[i] = vt[i]/(1-(beta2**j))\n",
    "                    \n",
    "                self.Ws[i] -= self.eta*mt_hat[i]/(vt_hat[i]**0.5 + epsilon)\n",
    "                \n",
    "            #update prev mt,vt:\n",
    "            for i in range(len(prev_vt)):\n",
    "                prev_vt[i] = vt[i]\n",
    "                prev_mt[i] = mt[i]\n",
    "    \n",
    "        return self"
   ]
  },
  {
   "cell_type": "code",
   "execution_count": 47,
   "metadata": {},
   "outputs": [
    {
     "name": "stderr",
     "output_type": "stream",
     "text": [
      "Epoch: 100/100"
     ]
    },
    {
     "name": "stdout",
     "output_type": "stream",
     "text": [
      "Test acc: 0.6569031903190319\n"
     ]
    }
   ],
   "source": [
    "params = dict(n_hidden=25, \n",
    "              epochs=100, \n",
    "              eta=0.01, # larger eta since we using an adaptive technique\n",
    "              random_state=1,\n",
    "              layers = 5)\n",
    "\n",
    "MLP_Adam = MLP_AdaM(**params)\n",
    "MLP_Adam.fit(X_train_norm, Y_train, print_progress=1)\n",
    "yhat_AdaM = MLP_Adam.predict(X_test_norm)\n",
    "\n",
    "print('Test acc:',accuracy_score(Y_test,yhat_AdaM))"
   ]
  },
  {
   "cell_type": "code",
   "execution_count": 48,
   "metadata": {},
   "outputs": [
    {
     "name": "stdout",
     "output_type": "stream",
     "text": [
      "0 : 4003\n",
      "1 : 3261\n",
      "2 : 3160\n",
      "3 : 4120\n"
     ]
    },
    {
     "data": {
      "image/png": "[encoded data removed]",
      "text/plain": [
       "<Figure size 432x288 with 1 Axes>"
      ]
     },
     "metadata": {
      "needs_background": "light"
     },
     "output_type": "display_data"
    }
   ],
   "source": [
    "print_result(yhat_AdaM,MLP_Adam.cost_)"
   ]
  },
  {
   "cell_type": "markdown",
   "metadata": {},
   "source": [
    "We can see that the 5 layers preceptron with AdaM implamentation is the best model by far amoung all the model I built in this lab."
   ]
  },
  {
   "cell_type": "code",
   "execution_count": null,
   "metadata": {},
   "outputs": [],
   "source": []
  }
 ],
 "metadata": {
  "celltoolbar": "Raw Cell Format",
  "kernelspec": {
   "display_name": "Python 3",
   "language": "python",
   "name": "python3"
  },
  "language_info": {
   "codemirror_mode": {
    "name": "ipython",
    "version": 3
   },
   "file_extension": ".py",
   "mimetype": "text/x-python",
   "name": "python",
   "nbconvert_exporter": "python",
   "pygments_lexer": "ipython3",
   "version": "3.7.1"
  }
 },
 "nbformat": 4,
 "nbformat_minor": 4
}
