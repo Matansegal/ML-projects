{
 "cells": [
  {
   "cell_type": "code",
   "execution_count": 45,
   "metadata": {},
   "outputs": [],
   "source": [
    "import pandas as pd\n",
    "import numpy as np\n",
    "\n",
    "df = pd.read_csv('Data_Entry_2017.csv', encoding='unicode_escape', low_memory=False) # read in the csv file\n"
   ]
  },
  {
   "cell_type": "code",
   "execution_count": 46,
   "metadata": {},
   "outputs": [
    {
     "name": "stdout",
     "output_type": "stream",
     "text": [
      "4509\n"
     ]
    }
   ],
   "source": [
    "src_dir = \"images\"\n",
    "dst_dir = \"new_normal\"\n",
    "\n",
    "img_names = []\n",
    "\n",
    "for index, row in df.iterrows():\n",
    "    if row['Finding Labels'] == 'No Finding':\n",
    "        img_names.append(row['Image Index'])\n",
    "    if len(img_names) == 2500:\n",
    "        print(index)\n",
    "        break\n"
   ]
  },
  {
   "cell_type": "code",
   "execution_count": 47,
   "metadata": {},
   "outputs": [],
   "source": [
    "import glob\n",
    "import shutil\n",
    "import os\n",
    "\n",
    "for jpgfile in glob.iglob(os.path.join(src_dir, \"*.png\")):\n",
    "    if jpgfile[7:] in img_names:\n",
    "        shutil.copy(jpgfile, dst_dir)"
   ]
  },
  {
   "cell_type": "code",
   "execution_count": null,
   "metadata": {},
   "outputs": [],
   "source": []
  }
 ],
 "metadata": {
  "kernelspec": {
   "display_name": "Python 3.7 (tensorflow)",
   "language": "python",
   "name": "tensorflow"
  },
  "language_info": {
   "codemirror_mode": {
    "name": "ipython",
    "version": 3
   },
   "file_extension": ".py",
   "mimetype": "text/x-python",
   "name": "python",
   "nbconvert_exporter": "python",
   "pygments_lexer": "ipython3",
   "version": "3.7.7"
  }
 },
 "nbformat": 4,
 "nbformat_minor": 4
}
