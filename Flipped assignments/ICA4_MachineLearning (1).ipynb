{
 "cells": [
  {
   "cell_type": "code",
   "execution_count": 2,
   "metadata": {},
   "outputs": [
    {
     "data": {
      "text/html": [
       "<link href='https://fonts.googleapis.com/css?family=Passion+One' rel='stylesheet' type='text/css'><style>div.attn { font-family: 'Helvetica Neue'; font-size: 30px; line-height: 40px; color: #FFFFFF; text-align: center; margin: 30px 0; border-width: 10px 0; border-style: solid; border-color: #5AAAAA; padding: 30px 0; background-color: #DDDDFF; }hr { border: 0; background-color: #ffffff; border-top: 1px solid black; }hr.major { border-top: 10px solid #5AAA5A; }hr.minor { border: none; background-color: #ffffff; border-top: 5px dotted #CC3333; }div.bubble { width: 65%; padding: 20px; background: #DDDDDD; border-radius: 15px; margin: 0 auto; font-style: italic; color: #f00; }em { color: #AAA; }div.c1{visibility:hidden;margin:0;height:0;}div.note{color:red;}</style>"
      ],
      "text/plain": [
       "<IPython.core.display.HTML object>"
      ]
     },
     "execution_count": 2,
     "metadata": {},
     "output_type": "execute_result"
    }
   ],
   "source": [
    "#  Ebnable HTML/CSS \n",
    "from IPython.core.display import HTML\n",
    "HTML(\"<link href='https://fonts.googleapis.com/css?family=Passion+One' rel='stylesheet' type='text/css'><style>div.attn { font-family: 'Helvetica Neue'; font-size: 30px; line-height: 40px; color: #FFFFFF; text-align: center; margin: 30px 0; border-width: 10px 0; border-style: solid; border-color: #5AAAAA; padding: 30px 0; background-color: #DDDDFF; }hr { border: 0; background-color: #ffffff; border-top: 1px solid black; }hr.major { border-top: 10px solid #5AAA5A; }hr.minor { border: none; background-color: #ffffff; border-top: 5px dotted #CC3333; }div.bubble { width: 65%; padding: 20px; background: #DDDDDD; border-radius: 15px; margin: 0 auto; font-style: italic; color: #f00; }em { color: #AAA; }div.c1{visibility:hidden;margin:0;height:0;}div.note{color:red;}</style>\")"
   ]
  },
  {
   "cell_type": "markdown",
   "metadata": {},
   "source": [
    "___\n",
    "Enter Team Member Names here (*double click to edit*):\n",
    "\n",
    "- Name 1: Charles Patterson\n",
    "- Name 2: Matal Segal\n",
    "\n",
    "___"
   ]
  },
  {
   "cell_type": "markdown",
   "metadata": {},
   "source": [
    "# In Class Assignment Four\n",
    "In the following assignment you will be asked to fill in python code and derivations for a number of different problems. Please read all instructions carefully and turn in the rendered notebook (or HTML of the rendered notebook)  before the end of class (or right after class). The initial portion of this notebook is given before class and the remainder is given during class. Please answer the initial questions before class, to the best of your ability. Once class has started you may rework your answers as a team for the initial part of the assignment. \n",
    "\n",
    "<a id=\"top\"></a>\n",
    "## Contents\n",
    "* <a href=\"#LoadingKDD\">Loading KDDCup Data</a>\n",
    "* <a href=\"#kdd_eval\">KDDCup Evaluation and Cross Validation</a>\n",
    "* <a href=\"#data_snooping\">More Cross Validation</a>\n",
    "* <a href=\"#stats\">Statistical Comparison</a>\n",
    "\n",
    "**Before coming to class**, please make sure you have the latest version of `scikit-learn`. This notebook was created for version 0.18 and higher. \n",
    "\n",
    "________________________________________________________________________________________________________\n",
    "\n",
    "<a id=\"LoadingKDD\"></a>\n",
    "<a href=\"#top\">Back to Top</a>\n",
    "## Loading KDDCup Data\n",
    "\n",
    "Please run the following code to read in the \"KDD Cup\" dataset from sklearn's data loading module. It consists of examples of different simulated attacks for the 1998 DARPA Intrusion Detection System (IDS). \n",
    "\n",
    "This will load the data into the variable `ds`. `ds` is a `bunch` object with fields like `ds.data` and `ds.target`. The field `ds.data` is a numpy matrix of the continuous features in the dataset. **The object is not a pandas dataframe. It is a numpy matrix.** Each row is a set of observed instances, each column is a different feature. It also has a field called `ds.target` that is an integer value we are trying to predict (i.e., a specific integer represents a specific person). Each entry in `ds.target` is a label for each row of the `ds.data` matrix. "
   ]
  },
  {
   "cell_type": "code",
   "execution_count": 3,
   "metadata": {},
   "outputs": [
    {
     "name": "stdout",
     "output_type": "stream",
     "text": [
      "Sklearn Version: 0.22.1\n"
     ]
    }
   ],
   "source": [
    "# fetch the dataset\n",
    "from sklearn.datasets import  fetch_kddcup99\n",
    "from sklearn import __version__ as sklearn_version\n",
    "\n",
    "print('Sklearn Version:',sklearn_version)\n",
    "ds =  fetch_kddcup99(subset='http')"
   ]
  },
  {
   "cell_type": "code",
   "execution_count": 4,
   "metadata": {},
   "outputs": [
    {
     "name": "stdout",
     "output_type": "stream",
     "text": [
      "n_samples: 58725\n",
      "n_features: 3\n",
      "n_classes: 2\n"
     ]
    }
   ],
   "source": [
    "import numpy as np\n",
    "# get some of the specifics of the dataset\n",
    "X = ds.data\n",
    "y = ds.target != b'normal.'\n",
    "\n",
    "n_samples, n_features = X.shape\n",
    "n_classes = len(np.unique(y))\n",
    "\n",
    "print(\"n_samples: {}\".format(n_samples))\n",
    "print(\"n_features: {}\".format(n_features))\n",
    "print(\"n_classes: {}\".format(n_classes))"
   ]
  },
  {
   "cell_type": "markdown",
   "metadata": {},
   "source": [
    "___\n",
    "**Question 1:** How many instances are in the binary classification problem loaded above? How many instances are in each class? **Plot a pie chart or bar chart of the number of instances in each of the classes.**\n",
    "\n",
    "In class zero, there are 56516 instances and in class one there are 2209 instances."
   ]
  },
  {
   "cell_type": "code",
   "execution_count": 5,
   "metadata": {},
   "outputs": [
    {
     "name": "stdout",
     "output_type": "stream",
     "text": [
      "Number of instances in each class: ??\n",
      "[56516  2209]\n"
     ]
    },
    {
     "data": {
      "image/png": "[encoded data removed]",
      "text/plain": [
       "<Figure size 432x288 with 1 Axes>"
      ]
     },
     "metadata": {},
     "output_type": "display_data"
    }
   ],
   "source": [
    "from matplotlib import pyplot as plt\n",
    "%matplotlib inline\n",
    "plt.style.use('ggplot')\n",
    "\n",
    "\n",
    "#=== Fill in code below========\n",
    "print('Number of instances in each class:','??')\n",
    "print(np.bincount(y))\n",
    "y = y.view(\"uint8\")\n",
    "plt.hist(y)\n",
    "plt.show()"
   ]
  },
  {
   "cell_type": "markdown",
   "metadata": {},
   "source": [
    "<a id=\"kdd_eval\"></a>\n",
    "<a href=\"#top\">Back to Top</a>\n",
    "## KDDCup Evaluation and Cross Validation"
   ]
  },
  {
   "cell_type": "code",
   "execution_count": 6,
   "metadata": {},
   "outputs": [
    {
     "data": {
      "text/plain": [
       "(0.9894891008174387, 1.0)"
      ]
     },
     "execution_count": 6,
     "metadata": {},
     "output_type": "execute_result"
    },
    {
     "data": {
      "image/png": "[encoded data removed]",
      "text/plain": [
       "<Figure size 432x288 with 1 Axes>"
      ]
     },
     "metadata": {},
     "output_type": "display_data"
    }
   ],
   "source": [
    "from sklearn.model_selection import cross_val_score\n",
    "from sklearn.model_selection import KFold, ShuffleSplit\n",
    "from sklearn.model_selection import StratifiedKFold, StratifiedShuffleSplit\n",
    "\n",
    "from sklearn.metrics import make_scorer, accuracy_score\n",
    "from sklearn.metrics import precision_score, recall_score, f1_score\n",
    "\n",
    "from sklearn.linear_model import LogisticRegression\n",
    "\n",
    "# select model\n",
    "clf = LogisticRegression()\n",
    "#select cross validation\n",
    "cv = KFold(n_splits=10)\n",
    "# select evaluation criteria\n",
    "my_scorer = make_scorer(accuracy_score)\n",
    "# run model training and cross validation\n",
    "per_fold_eval_criteria = cross_val_score(estimator=clf,\n",
    "                                    X=X,\n",
    "                                    y=y,\n",
    "                                    cv=cv,\n",
    "                                    scoring=my_scorer\n",
    "                                   )\n",
    "plt.bar(range(len(per_fold_eval_criteria)),per_fold_eval_criteria)\n",
    "plt.ylim([min(per_fold_eval_criteria)-0.01,max(per_fold_eval_criteria)])"
   ]
  },
  {
   "cell_type": "markdown",
   "metadata": {},
   "source": [
    "____\n",
    "**Question 2** Is the code above a proper separation of training and testing sets for the given dataset (i.e., using KFold)? Why or why not? "
   ]
  },
  {
   "cell_type": "markdown",
   "metadata": {},
   "source": [
    "\n",
    "\n",
    "*Enter your answer here (double click)*\n",
    "\n",
    "*Yes or No and why*\n",
    "\n",
    "No, becuase when it split the classes, it did not keep the ratio between the different classes.\n",
    "___"
   ]
  },
  {
   "cell_type": "markdown",
   "metadata": {},
   "source": [
    "**Question 3:** Is the evaluation metric chosen in the above code appropriate for the dataset (i.e., using accuracy)? Why or Why not?"
   ]
  },
  {
   "cell_type": "markdown",
   "metadata": {},
   "source": [
    "*Enter your answer here (double click)*\n",
    "\n",
    "*Yes or No and why* \n",
    "\n",
    "No, it seems to just be predicting class zero and is ignoring class one, therefore, we can see some classes with 100% accuracy, when it probably just was predicting one class.\n",
    "___"
   ]
  },
  {
   "cell_type": "markdown",
   "metadata": {},
   "source": [
    "**Exercise 1:** If the code above is not a proper separation of the train or does not use the proper evaluation criteria, fix the code in the block below to use appropriate train/test separation and appropriate evaluation criterion (criteria). **Mark changes in the code with comments.**"
   ]
  },
  {
   "cell_type": "code",
   "execution_count": 30,
   "metadata": {},
   "outputs": [
    {
     "data": {
      "text/plain": [
       "(0.9832126696832579, 1.0)"
      ]
     },
     "execution_count": 30,
     "metadata": {},
     "output_type": "execute_result"
    },
    {
     "data": {
      "image/png": "[encoded data removed]",
      "text/plain": [
       "<Figure size 432x288 with 1 Axes>"
      ]
     },
     "metadata": {},
     "output_type": "display_data"
    }
   ],
   "source": [
    "from sklearn.model_selection import cross_val_score\n",
    "from sklearn.model_selection import KFold, ShuffleSplit\n",
    "from sklearn.model_selection import StratifiedKFold, StratifiedShuffleSplit\n",
    "\n",
    "from sklearn.metrics import make_scorer, accuracy_score\n",
    "from sklearn.metrics import precision_score, recall_score, f1_score\n",
    "\n",
    "from sklearn.linear_model import LogisticRegression\n",
    "# these imports above might help you\n",
    "\n",
    "#=====Write your code below here=================\n",
    "# select model\n",
    "clf = LogisticRegression()\n",
    "#select cross validation\n",
    "sss = StratifiedShuffleSplit(n_splits=10, test_size=0.2, random_state=0) #Changed this to stratified KFold to keep\n",
    "                                                                        #the percentages of both classes the same.\n",
    "# select evaluation criteria\n",
    "my_scorer = make_scorer(recall_score) #Changed this to recall_score, because this will better enable us to handle the \n",
    "                                        #size difference in class zero and one.  Becuase it takes TP / (TP + FN)\n",
    "# run model training and cross validation\n",
    "per_fold_eval_criteria = cross_val_score(estimator=clf,\n",
    "                                    X=X,\n",
    "                                    y=y,\n",
    "                                    cv=sss,\n",
    "                                    scoring=my_scorer\n",
    "                                   )\n",
    "\n",
    "plt.bar(range(len(per_fold_eval_criteria)),per_fold_eval_criteria)\n",
    "plt.ylim([min(per_fold_eval_criteria)-0.01,max(per_fold_eval_criteria)])"
   ]
  },
  {
   "cell_type": "markdown",
   "metadata": {},
   "source": [
    "____\n",
    "**Question 4**: Does the learning algorithm perform well based on the evaluation criteria? Why or why not?"
   ]
  },
  {
   "cell_type": "markdown",
   "metadata": {},
   "source": [
    "\n",
    "*Enter you answer here (double click to edit)*\n",
    "\n",
    " \n",
    "Yes, it seems to be predicting very well with accuracy better than 99% across all folds.\n",
    "\n",
    "___"
   ]
  },
  {
   "cell_type": "markdown",
   "metadata": {},
   "source": [
    "\n",
    "<a id=\"data_snooping\"></a>\n",
    "<a href=\"#top\">Back to Top</a>\n",
    "\n",
    "## More Cross Validation\n",
    "\n",
    "**Exercise 2:** Does the code below contain any errors in the implementation of the cross validation? If so, fix the code below so that there are no longer any errors in the cross validation."
   ]
  },
  {
   "cell_type": "markdown",
   "metadata": {},
   "source": [
    "\n",
    "*Explain any cross validation errors here (double click to edit)*"
   ]
  },
  {
   "cell_type": "code",
   "execution_count": 31,
   "metadata": {},
   "outputs": [
    {
     "data": {
      "text/plain": [
       "(0.9605882352941176, 0.9932126696832579)"
      ]
     },
     "execution_count": 31,
     "metadata": {},
     "output_type": "execute_result"
    },
    {
     "data": {
      "image/png": "[encoded data removed]",
      "text/plain": [
       "<Figure size 432x288 with 1 Axes>"
      ]
     },
     "metadata": {},
     "output_type": "display_data"
    }
   ],
   "source": [
    "from sklearn.decomposition import PCA\n",
    "from sklearn.preprocessing import StandardScaler\n",
    "from sklearn.pipeline import Pipeline\n",
    "\n",
    "\n",
    "#======If there are errors, fix them below======\n",
    "n_components = 1\n",
    "pca = PCA(n_components=n_components)\n",
    "Xpca = pca.fit_transform(X)\n",
    "\n",
    "clf = Pipeline([('scl',StandardScaler()),\n",
    "                ('clf',LogisticRegression())])\n",
    "\n",
    "per_fold_eval_criteria = cross_val_score(estimator=clf,\n",
    "                                    X=Xpca,\n",
    "                                    y=y,\n",
    "                                    cv=sss,\n",
    "                                    scoring=my_scorer\n",
    "                                   )\n",
    "\n",
    "plt.bar(range(len(per_fold_eval_criteria)),per_fold_eval_criteria)\n",
    "plt.ylim([min(per_fold_eval_criteria)-0.01,max(per_fold_eval_criteria)])\n",
    "\n",
    "# =====fixed code======\n",
    "# write the fixed code (if needed) below\n",
    "#The only thing I change was we called our cv object sss."
   ]
  },
  {
   "cell_type": "markdown",
   "metadata": {},
   "source": [
    "___\n",
    "\n",
    "# Circumstances Change\n",
    "For this question, the circumstances for the DARPA KDD99 cup are changed in the following way:\n",
    "- When the model for detecting attacks is deployed, we now think that it will often need to be retrained because new attacks will emerge.\n",
    " - DARPA anticipates that there will be a handful of different style attacks on their systems that have never been seen before. To detect these new attacks, they are employing programmers and analysts to find them manually every day. \n",
    " - DARPA believes the perpetrators of these new attacks are more sophisticated, so finding the new attacks will take priority over detecting the older, known attacks. \n",
    "- DARPA wants to use your learning algorithm for detecting only these new attacks. However, they tell you that the amount of training data for the new attacks will be extremely small. That is, the analysts can only identify a handful of new style attacks each day (so you will only have about 3-5 examples of the attacks for training).\n",
    "- **DARPA asks you: Do you think its a good idea to employ retraining your model each day to find these new attacks?** They need an answer in the next 20 minutes.  \n",
    "\n",
    "**Question 5**: How would you change the method of cross validation to answer this question from DARPA? That is, how can you change your cross validation method to better mirror how your system will be used and deployed by DARPA when there are only 3-5 attack examples available for training? *Note: you do not have access to these new training examples. You need to change you cross validation method with the existing data to answer this question.* "
   ]
  },
  {
   "cell_type": "markdown",
   "metadata": {},
   "source": [
    "*Enter your answer here (double click)*\n",
    "\n",
    "*We could... and why*\n",
    "\n",
    "We could do two things:\n",
    "1. We could balance the dataset resampling from the few attacks that we do have.\n",
    "2. We could continue to use the recall score to help the model focus on finding the true positives out of all the actual attacks.\n",
    "___"
   ]
  },
  {
   "cell_type": "code",
   "execution_count": 32,
   "metadata": {},
   "outputs": [],
   "source": [
    "#plotting function for use in next question\n",
    "# takes input 'test_scores', axis labels, and an x-axis label\n",
    "def plot_filled(test_scores,train_x_axis, xlabel=''):\n",
    "    \n",
    "    test_mean = np.percentile(test_scores,50, axis=1)\n",
    "    test_max = np.percentile(test_scores,95, axis=1) \n",
    "    test_min = np.percentile(test_scores,5, axis=1) \n",
    "\n",
    "    plt.plot(train_x_axis, test_mean,\n",
    "             color='blue', linestyle='--',\n",
    "             marker='s', markersize=5,\n",
    "             label='validation set')\n",
    "\n",
    "    plt.fill_between(train_x_axis,\n",
    "                     test_min,\n",
    "                     test_max,\n",
    "                     alpha=0.15, color='blue')\n",
    "\n",
    "    plt.grid(True)\n",
    "    plt.xlabel(xlabel)\n",
    "    plt.ylabel('Evaluation Criterion')\n",
    "    plt.legend(loc='lower right')\n",
    "    plt.tight_layout()"
   ]
  },
  {
   "cell_type": "markdown",
   "metadata": {},
   "source": [
    "___\n",
    "DARPA is also concerned about how much training data they will need from the analysts in order to have a high performing model. They would like to use the current dataset to help answer that question. The code below is written for you to help answer DARPA's question about how many examples will be needed for training. Examine the code and the output (please rerun with your evaluation criteria), then answer the following question:\n",
    "\n",
    "**Question 6**: Based on the analysis graphed below, how many positive examples are required to have a good tradeoff between bias and variance for the given evaluation criteria? Why? *Note: the x-axis really is a percentage, so the value 0.1 is actually 0.1%.*"
   ]
  },
  {
   "cell_type": "code",
   "execution_count": 34,
   "metadata": {},
   "outputs": [
    {
     "data": {
      "image/png": "[encoded data removed]",
      "text/plain": [
       "<Figure size 432x288 with 1 Axes>"
      ]
     },
     "metadata": {},
     "output_type": "display_data"
    }
   ],
   "source": [
    "clf = LogisticRegression()\n",
    "\n",
    "test_scores = []\n",
    "train_sizes=np.linspace(5e-4,5e-3,10)\n",
    "\n",
    "for size in train_sizes:\n",
    "    cv = StratifiedShuffleSplit(n_splits=100,\n",
    "                                train_size = size,\n",
    "                                test_size = 1-size,\n",
    "                               )\n",
    "    test_scores.append(cross_val_score(estimator=clf,X=X,y=y,cv=cv,scoring=my_scorer))\n",
    "\n",
    "plot_filled(np.array(test_scores), train_sizes*100, 'Percentage training data (%)')"
   ]
  },
  {
   "cell_type": "markdown",
   "metadata": {},
   "source": [
    "___\n",
    "*Enter you answer here (double click)*\n",
    "\n",
    "*It seems that ...*\n",
    "\n",
    "It seems that .3% is the best to have a good tradeoff.\n",
    "___"
   ]
  },
  {
   "cell_type": "markdown",
   "metadata": {},
   "source": [
    "___\n",
    "<a id=\"stats\"></a>\n",
    "<a href=\"#top\">Back to Top</a>\n",
    "\n",
    "# Statistical Comparison\n",
    "Now lets create a few different models and see if any of them have statistically better performances. \n",
    "\n",
    "We are creating three different classifiers below to compare to one another. For creating different training and testing splits, we are using stratified shuffle splits on the datasets. \n",
    "\n"
   ]
  },
  {
   "cell_type": "code",
   "execution_count": 35,
   "metadata": {},
   "outputs": [],
   "source": [
    "clf1 = LogisticRegression(C=100)\n",
    "clf2 = LogisticRegression(C=1)\n",
    "clf3 = LogisticRegression(C=0.1)\n",
    "\n",
    "train_size = 0.003 # small training size\n",
    "cv = StratifiedShuffleSplit(n_splits=10,train_size=train_size,test_size=1-train_size)\n",
    "\n",
    "evals1 = cross_val_score(estimator=clf1,X=X,y=y,scoring=my_scorer,cv=cv)\n",
    "evals2 = cross_val_score(estimator=clf2,X=X,y=y,scoring=my_scorer,cv=cv)\n",
    "evals3 = cross_val_score(estimator=clf3,X=X,y=y,scoring=my_scorer,cv=cv)"
   ]
  },
  {
   "cell_type": "markdown",
   "metadata": {},
   "source": [
    "**Question 7**: Given the code above, what statistical test is more appropriate for selecting confidence intervals, and **why**? Your options are:\n",
    "- **A**: approximating the evaluation criterion as a binomial distribution and bounding by the variance (the first option we used in the flipped lecture video)\n",
    "- **B**: approximating the bounds using the folds of the cross validation to get mean and variance (the second option we used in the flipped lecture video)\n",
    "- **C**: Either are acceptable statistical tests for obtaining confidence intervals"
   ]
  },
  {
   "cell_type": "markdown",
   "metadata": {},
   "source": [
    "A\n",
    "\n",
    "Because B is beneficial if we are using KFolds to seperate train and test, but in this case we are not doing such.\n",
    "___"
   ]
  },
  {
   "cell_type": "markdown",
   "metadata": {},
   "source": [
    "___\n",
    "**Final Exercise:** With 95% confidence, perform the statistical test that you selected above. Is any model or set of models statistically the best performer(s)? Or can we not say if the models are different with greater than 95% confidence?\n",
    "\n",
    "If you chose option A, use a multiplier of Z=1.96. The number of instances used in testing can be calculated from the variable `train_size`.\n",
    "\n",
    "If you chose option B, use a multiplier of t=2.26 and k=10."
   ]
  },
  {
   "cell_type": "code",
   "execution_count": 41,
   "metadata": {},
   "outputs": [
    {
     "name": "stdout",
     "output_type": "stream",
     "text": [
      "(0.00040875540068605444, 0.0004086832914117727)\n",
      "(0.003951486702217327, 0.00395042065473063)\n",
      "(0.004360169777301278, 0.0043591762717445064)\n",
      "Model evals1 has statistically the best recall score with 95% confidence\n"
     ]
    }
   ],
   "source": [
    "#===================================================\n",
    "# Enter your code below\n",
    "\n",
    "from scipy.stats import sem, t\n",
    "from scipy import mean, std\n",
    "\n",
    "\n",
    "n = train_size\n",
    "u1 = mean(evals1)\n",
    "u2 = mean(evals2)\n",
    "u3 = mean(evals3)\n",
    "std1 = std(evals1)\n",
    "std2 = std(evals2)\n",
    "std3 = std(evals3)\n",
    "z = 1.96\n",
    "\n",
    "def conf_int(u1, u2, std1, std2, z, n):\n",
    "    sigma = (((std1**2) * (n-1)) + ((std2**2) * (n-1)) / ((2*n) + 1))\n",
    "    small = (u1-u2) - z*sigma\n",
    "    large = (u1-u2) + z*sigma\n",
    "    return small, large\n",
    "\n",
    "print(conf_int(u1, u2, std1, std2, z, n))\n",
    "print(conf_int(u2, u3, std2, std3, z, n))\n",
    "print(conf_int(u1, u3, std1, std3, z, n))\n",
    "\n",
    "\n",
    "print('Model evals1 has statistically the best recall score with 95% confidence')\n",
    "#==================================================="
   ]
  },
  {
   "cell_type": "markdown",
   "metadata": {},
   "source": [
    "________________________________________________________________________________________________________\n",
    "\n",
    "That's all! Please **save (make sure you saved!!!) and upload your rendered notebook** and please include **team member names** in the notebook submission."
   ]
  }
 ],
 "metadata": {
  "anaconda-cloud": {},
  "kernelspec": {
   "display_name": "Python 3",
   "language": "python",
   "name": "python3"
  },
  "language_info": {
   "codemirror_mode": {
    "name": "ipython",
    "version": 3
   },
   "file_extension": ".py",
   "mimetype": "text/x-python",
   "name": "python",
   "nbconvert_exporter": "python",
   "pygments_lexer": "ipython3",
   "version": "3.7.4"
  }
 },
 "nbformat": 4,
 "nbformat_minor": 1
}
